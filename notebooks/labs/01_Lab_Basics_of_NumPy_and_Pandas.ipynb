{
 "cells": [
  {
   "cell_type": "code",
   "execution_count": 2,
   "id": "634f92eb-d928-4bad-a0f2-8890277e10e6",
   "metadata": {
    "tags": []
   },
   "outputs": [],
   "source": [
    "import pandas as pd\n",
    "import numpy as np\n",
    "import matplotlib.pyplot as plt\n"
   ]
  },
  {
   "cell_type": "markdown",
   "id": "294b0822-ec92-4205-96b2-4dfad90c48d4",
   "metadata": {},
   "source": [
    "# Task 1. Matrix manipulation with NumPy\n",
    "\n",
    "## Magic Square Check\n",
    "\n",
    "Practice matrix manipulation with NumPy by checking if a given matrix is a magic square. A magic square is a grid of numbers where the sums of the numbers in each row, each column, and both main diagonals are the same.\n",
    "\n",
    "Given a 3x3 Matrix:\n",
    "\n",
    "You are provided with the following 3x3 matrix:\n",
    "\n",
    "\n",
    "```\n",
    "matrix = [\n",
    "  [8, 1, 6],\n",
    "  [3, 5, 7],\n",
    "  [4, 9, 2]\n",
    "]\n",
    "```\n",
    "\n",
    "Check if the Matrix is a Magic Square\n",
    "\n",
    "a. Calculate Row Sums:\n",
    "\n",
    "Calculate the sum of each row and store the results in a list.\n",
    "\n",
    "b. Calculate Column Sums:\n",
    "\n",
    "Calculate the sum of each column and store the results in a list.\n",
    "\n",
    "c. Calculate Diagonal Sums:\n",
    "\n",
    "Calculate the sum of the main diagonal (top-left to bottom-right) and the anti-diagonal (top-right to bottom-left).\n",
    "\n",
    "d. Check Equality:\n",
    "\n",
    "Verify if all the sums (row sums, column sums, and diagonal sums) are equal.\n",
    "If they are, print \"The matrix is a magic square.\" Otherwise, print \"The matrix is not a magic square.\"\n"
   ]
  },
  {
   "cell_type": "code",
   "execution_count": null,
   "id": "322bce3f-9f4b-4b25-b04e-f2503ad4deca",
   "metadata": {
    "tags": []
   },
   "outputs": [],
   "source": [
    "\n",
    "matrix = [\n",
    "    [8, 1, 6],\n",
    "    [3, 5, 7],\n",
    "    [4, 9, 2]\n",
    "]\n",
    "\n",
    "# Create numpy array with matrix\n",
    "matrix = \n",
    "\n",
    "def magic_square_check(matrix):\n",
    "    # Step 1: Calculate row sums\n",
    "    row_sums = \n",
    "\n",
    "    # Step 2: Calculate column sums\n",
    "    column_sums = \n",
    "\n",
    "    # Step 3: Calculate diagonal sums (hint: check the documentation for np.fliplr function)\n",
    "    main_diagonal_sum = \n",
    "    anti_diagonal_sum = \n",
    "\n",
    "    # Step 4: Check if all sums are equal\n",
    "    if # TODO: Implement condition to check if all sums are equal:\n",
    "        return \"The matrix is a magic square.\"\n",
    "    else:\n",
    "        return \"The matrix is not a magic square.\"\n",
    "\n",
    "magic_square_check(matrix)"
   ]
  },
  {
   "cell_type": "markdown",
   "id": "66e98d3d-6b60-4fb4-b0a3-37a49ea3c504",
   "metadata": {},
   "source": [
    "Expected Output: \n",
    "\n",
    "The matrix is a magic square.\n"
   ]
  },
  {
   "cell_type": "code",
   "execution_count": null,
   "id": "b82b4519-dd57-48c9-85a0-dcd69d620a7b",
   "metadata": {},
   "outputs": [],
   "source": []
  },
  {
   "cell_type": "markdown",
   "id": "4c5fa8bd-76f0-48fc-bb01-d1ba73d98d54",
   "metadata": {},
   "source": [
    "# Task 2: Introduction to Pandas Series"
   ]
  },
  {
   "cell_type": "code",
   "execution_count": null,
   "id": "5ca77a52-d214-4636-aee6-2ea5eb68ad93",
   "metadata": {
    "tags": []
   },
   "outputs": [],
   "source": [
    "# You are given the sales data for a company over a week:\n",
    "\n",
    "# Step 1: Create the Pandas Series\n",
    "days = ['Monday', 'Tuesday', 'Wednesday', 'Thursday', 'Friday', 'Saturday', 'Sunday']\n",
    "sales = [1500, 2300, 1700, 2500, 3000, 4200, 3800]\n",
    "\n",
    "# TODO: Create the Pandas Series with days as the index\n",
    "sales_series = \n",
    "\n",
    "# Step 2: Explore the Series\n",
    "print(sales_series)\n",
    "\n",
    "# TODO: Print the number of elements in the Series\n"
   ]
  },
  {
   "cell_type": "code",
   "execution_count": null,
   "id": "dad60e34-53ac-4b9f-bfc9-2b56ef2096dc",
   "metadata": {},
   "outputs": [],
   "source": [
    "# Step 3: Access sales data in the Series\n",
    "# TODO: Print the sales for \"Wednesday\" and \"Saturday\"\n"
   ]
  },
  {
   "cell_type": "code",
   "execution_count": 67,
   "id": "abc13520-0b00-4cf0-9b44-3bd7decab07c",
   "metadata": {
    "tags": []
   },
   "outputs": [],
   "source": [
    "# TODO: Print the sales for the first and last days of the week\n"
   ]
  },
  {
   "cell_type": "code",
   "execution_count": 69,
   "id": "fc687a69-a37b-44a5-bbd1-7846554c8c82",
   "metadata": {
    "tags": []
   },
   "outputs": [],
   "source": [
    "# TODO: Print the sales from \"Wednesday\" to \"Friday\"\n"
   ]
  },
  {
   "cell_type": "code",
   "execution_count": 70,
   "id": "5b08a30d-7050-485a-ada2-b3da236c6da5",
   "metadata": {
    "tags": []
   },
   "outputs": [],
   "source": [
    "# Step 4: Filtering and Conditional Selection\n",
    "# TODO: Create a new Series with days having sales over $3,000"
   ]
  },
  {
   "cell_type": "code",
   "execution_count": 71,
   "id": "9eedab9d-47dc-478a-8aae-8c4fecc01de2",
   "metadata": {
    "tags": []
   },
   "outputs": [],
   "source": [
    "# TODO: Check if any day had exactly $2,300 in sales\n"
   ]
  },
  {
   "cell_type": "code",
   "execution_count": 72,
   "id": "87f0cbb6-bfc5-4e06-8f9b-3b1a3ff831a0",
   "metadata": {
    "tags": []
   },
   "outputs": [],
   "source": [
    "# TODO: Check if all days had sales greater than $1,500\n"
   ]
  },
  {
   "cell_type": "code",
   "execution_count": 73,
   "id": "079430c5-dfd1-43ee-ae1b-92a7367db145",
   "metadata": {
    "tags": []
   },
   "outputs": [],
   "source": [
    "# Step 5: Basic Operations on Sales Data\n",
    "# TODO: Apply a 10% increase and calculate new sales figures"
   ]
  },
  {
   "cell_type": "code",
   "execution_count": 74,
   "id": "bc2e086a-dd88-47b7-a4fd-cd8dcbb6a181",
   "metadata": {
    "tags": []
   },
   "outputs": [],
   "source": [
    "# TODO: Calculate sales after a 5% discount\n"
   ]
  },
  {
   "cell_type": "code",
   "execution_count": null,
   "id": "02730df2-b9e0-4bf7-85e0-eaf2dba09d61",
   "metadata": {},
   "outputs": [],
   "source": [
    "# TODO: Calculate total, average, max, and min sales\n",
    "total_sales = \n",
    "average_sales = \n",
    "max_sales = \n",
    "min_sales = \n",
    "\n",
    "print(f\"Total sales: ${total_sales}\")\n",
    "print(f\"Average sales: ${average_sales}\")\n",
    "print(f\"Max sales: ${max_sales} on {sales_series.idxmax()}\")\n",
    "print(f\"Min sales: ${min_sales} on {sales_series.idxmin()}\")"
   ]
  },
  {
   "cell_type": "code",
   "execution_count": null,
   "id": "91d732d8-3894-4020-b5d9-da8a6a348bb4",
   "metadata": {},
   "outputs": [],
   "source": []
  },
  {
   "cell_type": "code",
   "execution_count": null,
   "id": "84690057-508b-4c21-8482-39fcda3debba",
   "metadata": {},
   "outputs": [],
   "source": []
  },
  {
   "cell_type": "markdown",
   "id": "f68bf49a-9337-4177-bdb4-548ede1e2791",
   "metadata": {},
   "source": [
    "# Task 3. Practice with Pandas DataFrame"
   ]
  },
  {
   "cell_type": "code",
   "execution_count": 80,
   "id": "c131958b-6ebf-4bda-81c4-3acbf2dc0279",
   "metadata": {
    "tags": []
   },
   "outputs": [],
   "source": [
    "# Step 1: Create the Pandas DataFrame\n",
    "data = {\n",
    "    'Transaction ID': [1001, 1002, 1003, 1004, 1005, 1006],\n",
    "    'Customer ID': [2001, 2002, 2001, 2003, 2002, 2004],\n",
    "    'Product Category': ['Electronics', 'Clothing', 'Electronics', 'Groceries', 'Clothing', 'Electronics'],\n",
    "    'Quantity': [1, 2, 1, 3, 1, 2],\n",
    "    'Price per Unit': [300, 50, 300, 20, 50, 300],\n",
    "    'Costs per Unit': [200, 50, 250, 20, 10, 150],\n",
    "    'Transaction Date': ['2024-08-01', '2024-08-02', '2024-08-02', '2024-08-03', '2024-08-03', '2024-08-04']\n",
    "}\n"
   ]
  },
  {
   "cell_type": "code",
   "execution_count": null,
   "id": "f072c524-85bc-4565-b0d8-04b5b307fc74",
   "metadata": {},
   "outputs": [],
   "source": [
    "# TODO: Create the DataFrame\n",
    "transactions_df = \n"
   ]
  },
  {
   "cell_type": "code",
   "execution_count": null,
   "id": "d271fcca-acda-4486-af2d-024607f777ae",
   "metadata": {},
   "outputs": [],
   "source": [
    "# TODO: Convert 'Transaction Date' to datetime format\n",
    "transactions_df['Transaction Date'] = "
   ]
  },
  {
   "cell_type": "code",
   "execution_count": 81,
   "id": "a24c93d3-df3c-4a48-9284-b95ae0856131",
   "metadata": {
    "tags": []
   },
   "outputs": [],
   "source": [
    "# Step 2: Calculate Key Metrics\n",
    "# TODO: Calculate 'Total Revenue' for each transaction\n",
    "transactions_df['Total Revenue'] = transactions_df['Quantity'] * transactions_df['Price per Unit']"
   ]
  },
  {
   "cell_type": "code",
   "execution_count": 82,
   "id": "f5182d6c-aecb-46f9-8aa2-45d21a16cbc5",
   "metadata": {
    "tags": []
   },
   "outputs": [],
   "source": [
    "# TODO: Calculate Customer Lifetime Value (CLV)\n",
    "# CLV = total revenue by the customer\n",
    "# Return DataFrame with columns: ['Customer ID', 'Customer Lifetime Value']\n",
    "clv_df = \n"
   ]
  },
  {
   "cell_type": "code",
   "execution_count": null,
   "id": "5eb64bf4-f71c-4b8e-8a13-187d434f3ba8",
   "metadata": {
    "tags": []
   },
   "outputs": [],
   "source": [
    "# TODO: Analyze Product Category Popularity\n",
    "# Calculate the Quantity and Total Revenue by the Product Category\n",
    "product_category_stats = \n",
    "\n",
    "product_category_stats"
   ]
  },
  {
   "cell_type": "code",
   "execution_count": null,
   "id": "9dad096c-2044-413a-b919-4de82d71fc06",
   "metadata": {},
   "outputs": [],
   "source": [
    "# Step 3: Customer Segmentation\n",
    "# TODO: Segment Customers Based on Revenue:\n",
    "\n",
    "# Create a new column in clv_df to categorize customers into three segments:\n",
    "# High Value (CLV > $500)\n",
    "# Medium Value ($200 < CLV <= $500)\n",
    "# Low Value (CLV <= $200)"
   ]
  },
  {
   "cell_type": "code",
   "execution_count": null,
   "id": "ecc05065-a10d-48a3-ab22-f5e90ebcd414",
   "metadata": {
    "tags": []
   },
   "outputs": [],
   "source": [
    "# Step 3: Customer Segmentation\n",
    "# TODO: Segment customers based on CLV\n",
    "clv_df['Segment'] = "
   ]
  },
  {
   "cell_type": "code",
   "execution_count": null,
   "id": "e8ee07e3-ab30-46fc-9f65-bd48bcb23b9b",
   "metadata": {},
   "outputs": [],
   "source": [
    "# TODO: Count the number of customers in each segment\n",
    "segment_counts = "
   ]
  },
  {
   "cell_type": "code",
   "execution_count": null,
   "id": "690d5c26-0a98-4e61-b524-c64a0b2d82f3",
   "metadata": {},
   "outputs": [],
   "source": [
    "# Step 4: Sales Trends\n",
    "# TODO: Calculate daily revenue\n",
    "daily_revenue = \n",
    "\n",
    "# Visualize daily revenue trend\n",
    "daily_revenue.plot(kind='line', title='Daily Revenue Trend')\n",
    "plt.show()"
   ]
  },
  {
   "cell_type": "code",
   "execution_count": null,
   "id": "93350b65-ebcf-4d2b-a0d1-79ac71cd119a",
   "metadata": {},
   "outputs": [],
   "source": []
  },
  {
   "cell_type": "markdown",
   "id": "de9f0c05-6b09-4b5f-9634-264b76774f30",
   "metadata": {
    "tags": []
   },
   "source": [
    "# Task 4. Practice with real dataset"
   ]
  },
  {
   "cell_type": "code",
   "execution_count": null,
   "id": "4fbb937c-bea2-42c0-b96c-fe4d7330d137",
   "metadata": {},
   "outputs": [],
   "source": []
  },
  {
   "cell_type": "code",
   "execution_count": 93,
   "id": "c8ee4871-5405-44df-be7a-ab37bebd9a9f",
   "metadata": {
    "tags": []
   },
   "outputs": [],
   "source": [
    "# Step 1: Load and Explore the Data\n",
    "# TODO: Load the Titanic dataset (location: data/raw)\n",
    "titanic_df = \n"
   ]
  },
  {
   "cell_type": "code",
   "execution_count": null,
   "id": "a555cb90-a8e4-44c4-8953-17780d3a2718",
   "metadata": {
    "tags": []
   },
   "outputs": [],
   "source": [
    "# TODO: Display the first few rows\n"
   ]
  },
  {
   "cell_type": "code",
   "execution_count": 94,
   "id": "5f5c7edc-55e8-4cc2-b466-4e3e8ed6d6d3",
   "metadata": {
    "tags": []
   },
   "outputs": [],
   "source": [
    "# TODO: Check for missing values"
   ]
  },
  {
   "cell_type": "code",
   "execution_count": 95,
   "id": "274522e6-0f57-48cd-bfea-23532e5f2667",
   "metadata": {
    "tags": []
   },
   "outputs": [],
   "source": [
    "# TODO: Drop rows with missing Age or Embarked values"
   ]
  },
  {
   "cell_type": "code",
   "execution_count": null,
   "id": "160c5df6-3d98-4d50-84fd-ef6dc62a66ce",
   "metadata": {
    "tags": []
   },
   "outputs": [],
   "source": [
    "# Step 2: Calculate Survival Rates by Class and Gender\n",
    "# TODO: Calculate survival rate by class\n",
    "survival_by_class = \n",
    "print(survival_by_class)\n",
    "\n",
    "# TODO: Calculate survival rate by gender\n",
    "survival_by_gender = \n",
    "print(survival_by_gender)\n",
    "\n",
    "# TODO: Calculate combined survival rate by class and gender\n",
    "combined_survival = \n",
    "print(combined_survival)"
   ]
  },
  {
   "cell_type": "code",
   "execution_count": null,
   "id": "857ab7fb-d26c-44ce-bc62-ba5e89de9f57",
   "metadata": {
    "tags": []
   },
   "outputs": [],
   "source": [
    "# Step 3: Analyze the Impact of Age on Survival\n",
    "# TODO: Create age groups (use pd.cut function)\n",
    "bins = [0, 12, 19, 59, 120]\n",
    "labels = ['Child', 'Teenager', 'Adult', 'Senior']\n",
    "titanic_df['AgeGroup'] = \n",
    "\n",
    "# TODO: Calculate survival rate by age group\n",
    "survival_by_age_group = \n",
    "print(survival_by_age_group)"
   ]
  },
  {
   "cell_type": "code",
   "execution_count": null,
   "id": "500a6bcb-829f-4a2e-9ba8-dc9521a75414",
   "metadata": {},
   "outputs": [],
   "source": [
    "# TODO: Visualize age vs. survival\n",
    "survival_by_age_group.plot(kind='bar', title='Survival Rate by Age Group')\n",
    "plt.show()\n"
   ]
  },
  {
   "cell_type": "code",
   "execution_count": null,
   "id": "52dc3dfd-9a10-400a-8fd3-ca56e4395f61",
   "metadata": {},
   "outputs": [],
   "source": []
  },
  {
   "cell_type": "code",
   "execution_count": null,
   "id": "34faebed-677c-479e-a9e0-49142bb4e8d2",
   "metadata": {
    "tags": []
   },
   "outputs": [],
   "source": []
  },
  {
   "cell_type": "code",
   "execution_count": null,
   "id": "1ccf21a7-e853-417c-b0d3-1d040b4d1311",
   "metadata": {},
   "outputs": [],
   "source": []
  }
 ],
 "metadata": {
  "kernelspec": {
   "display_name": "Python 3 (ipykernel)",
   "language": "python",
   "name": "python3"
  },
  "language_info": {
   "codemirror_mode": {
    "name": "ipython",
    "version": 3
   },
   "file_extension": ".py",
   "mimetype": "text/x-python",
   "name": "python",
   "nbconvert_exporter": "python",
   "pygments_lexer": "ipython3",
   "version": "3.9.18"
  }
 },
 "nbformat": 4,
 "nbformat_minor": 5
}

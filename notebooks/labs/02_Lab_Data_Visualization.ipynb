{
 "cells": [
  {
   "cell_type": "markdown",
   "id": "b128a21a",
   "metadata": {},
   "source": [
    "dataset description\n",
    "https://github.com/fivethirtyeight/data/tree/master/nba-elo"
   ]
  },
  {
   "cell_type": "code",
   "execution_count": null,
   "id": "3564da20-5be8-4516-9cd3-04a79e76659e",
   "metadata": {},
   "outputs": [],
   "source": [
    "# !pip install seaborn\n",
    "# !pip install matplotlib"
   ]
  },
  {
   "cell_type": "markdown",
   "id": "89f5453f",
   "metadata": {},
   "source": [
    "# Task 1. Data Loading and Exploration:"
   ]
  },
  {
   "cell_type": "code",
   "execution_count": null,
   "id": "a8744389",
   "metadata": {},
   "outputs": [],
   "source": [
    "import pandas as pd\n",
    "\n",
    "# Set display.max_columns to None to show all columns of the DataFrame\n",
    "pd.set_option('display.max_columns', None)\n",
    "\n",
    "df = pd.read_csv('../../data/raw/nbaallelo.csv')\n"
   ]
  },
  {
   "cell_type": "code",
   "execution_count": null,
   "id": "bff8e61d",
   "metadata": {},
   "outputs": [],
   "source": [
    "df.head(10)"
   ]
  },
  {
   "cell_type": "code",
   "execution_count": null,
   "id": "099720c9",
   "metadata": {},
   "outputs": [],
   "source": [
    "df.info()"
   ]
  },
  {
   "cell_type": "code",
   "execution_count": null,
   "id": "b776f858",
   "metadata": {},
   "outputs": [],
   "source": [
    "df.describe()"
   ]
  },
  {
   "cell_type": "markdown",
   "id": "7ce1d770",
   "metadata": {},
   "source": [
    "## Task 1.2 Handling Missing Data:\n",
    "1) Identify any missing data in the dataset. \n",
    "2) Create two another dataframes: the first one is without empty values, another one with filled blank values."
   ]
  },
  {
   "cell_type": "code",
   "execution_count": null,
   "id": "e342b237",
   "metadata": {},
   "outputs": [],
   "source": [
    "missing_data = \n",
    "\n",
    "# Drop rows with missing values\n",
    "df_cleaned =\n",
    "\n",
    "# Alternatively, fill missing values (e.g., with 0)\n",
    "df_filled = "
   ]
  },
  {
   "cell_type": "code",
   "execution_count": null,
   "id": "abacf8cf",
   "metadata": {},
   "outputs": [],
   "source": [
    "missing_data"
   ]
  },
  {
   "cell_type": "code",
   "execution_count": null,
   "id": "0c743b50",
   "metadata": {},
   "outputs": [],
   "source": [
    "df_cleaned"
   ]
  },
  {
   "cell_type": "code",
   "execution_count": null,
   "id": "433e9040",
   "metadata": {},
   "outputs": [],
   "source": [
    "df_filled"
   ]
  },
  {
   "cell_type": "markdown",
   "id": "be495129",
   "metadata": {},
   "source": [
    "## Task 1.3 Filtering and Sorting Data:\n",
    "\n",
    "Filter the dataset to show all games played by the team with id CLE. Then, sort the games by the date."
   ]
  },
  {
   "cell_type": "code",
   "execution_count": null,
   "id": "654f26e0",
   "metadata": {},
   "outputs": [],
   "source": [
    "cle_games = \n",
    "cle_games_sorted = \n",
    "cle_games_sorted.head()"
   ]
  },
  {
   "cell_type": "markdown",
   "id": "a5f5d766",
   "metadata": {},
   "source": [
    "## Task 1.4 Groupby Operations:\n",
    "\n",
    "Group the dataset by team_id and calculate the average forecast for each team over all their games."
   ]
  },
  {
   "cell_type": "code",
   "execution_count": null,
   "id": "3aa48668",
   "metadata": {},
   "outputs": [],
   "source": [
    "avg_forecast_per_team = \n",
    "avg_forecast_per_team"
   ]
  },
  {
   "cell_type": "markdown",
   "id": "7d2ca054",
   "metadata": {},
   "source": [
    "## Task 1.5 DateTime Handling:\n",
    "\n",
    "Convert the game dates into datetime format. Calculate the number of games played by each team in the 1980s."
   ]
  },
  {
   "cell_type": "code",
   "execution_count": null,
   "id": "560cd304",
   "metadata": {},
   "outputs": [],
   "source": [
    "df['date_game'] = \n",
    "games_80s = \n",
    "games_per_team_80s = \n",
    "games_per_team_80s"
   ]
  },
  {
   "cell_type": "markdown",
   "id": "8e799dd0",
   "metadata": {},
   "source": [
    "## Task 1.6 Data Aggregation:\n",
    "\n",
    "Find out which team has won the most games in NBA history by aggregating game outcomes by team.\n"
   ]
  },
  {
   "cell_type": "code",
   "execution_count": null,
   "id": "e311e314",
   "metadata": {},
   "outputs": [],
   "source": [
    "team_wins = \n",
    "team_wins"
   ]
  },
  {
   "cell_type": "markdown",
   "id": "2d220a92",
   "metadata": {},
   "source": [
    "## Correlation Analysis:\n",
    "\n",
    "Calculate the correlation between the Elo ratings ('elo_i','elo_n', 'opp_elo_i','opp_elo_n' columns in the dataset) of teams before and after games. Visualize the results using a heatmap.\n"
   ]
  },
  {
   "cell_type": "code",
   "execution_count": null,
   "id": "67ee41cf",
   "metadata": {},
   "outputs": [],
   "source": [
    "correlation = \n",
    "\n",
    "correlation"
   ]
  },
  {
   "cell_type": "code",
   "execution_count": null,
   "id": "309e2ba7",
   "metadata": {},
   "outputs": [],
   "source": [
    "# Visualization\n",
    "import seaborn as sns\n",
    "import matplotlib.pyplot as plt\n"
   ]
  },
  {
   "cell_type": "markdown",
   "id": "cffd2367",
   "metadata": {},
   "source": [
    "# 2. Data Visualization \n",
    "\n",
    "## Task 1.2 Line Plot:\n",
    "\n",
    "Create a line plot showing the Elo rating progression (elo_i column) of the LAL team from 1990 to 1998.\n"
   ]
  },
  {
   "cell_type": "code",
   "execution_count": null,
   "id": "0d620e7a",
   "metadata": {},
   "outputs": [],
   "source": [
    "lal_games = \n",
    "plt.plot()\n",
    "\n",
    "plt.title('LAL Elo Rating (1990-1998)')\n",
    "plt.xlabel('Date')\n",
    "plt.ylabel('Elo Rating')\n",
    "plt.show()"
   ]
  },
  {
   "cell_type": "markdown",
   "id": "905e7540",
   "metadata": {},
   "source": [
    "## Task 2.2 Bar Plot:\n",
    "\n",
    "Create a bar chart comparing the total number of games played by the top 5 teams with the most wins.\n"
   ]
  },
  {
   "cell_type": "code",
   "execution_count": null,
   "id": "ca606d3c",
   "metadata": {},
   "outputs": [],
   "source": [
    "top_5_teams = \n",
    "# write a code to visuzlize data\n",
    "plt.title('Top 5 Teams by Number of Games Played')\n",
    "plt.xlabel('Teams')\n",
    "plt.ylabel('Number of Games')\n",
    "plt.show()"
   ]
  },
  {
   "attachments": {},
   "cell_type": "markdown",
   "id": "1f62b016",
   "metadata": {},
   "source": [
    "## Task 2.3 Scatter Plot: Relationship between Pre-game and Post-game Elo Ratings\n",
    "Task: Create a scatter plot to visualize the relationship between a team's pre-game (elo_i, opp_elo_i) and post-game (elo_n, opp_elo_n) Elo ratings. \n"
   ]
  },
  {
   "cell_type": "code",
   "execution_count": null,
   "id": "bfa1ba11",
   "metadata": {},
   "outputs": [],
   "source": [
    "plt.scatter(...)\n",
    "plt.scatter(...)\n",
    "plt.title('Pre-game vs Post-game Elo Ratings')\n",
    "plt.xlabel('Elo Pre-game')\n",
    "plt.ylabel('Elo Post-game')\n",
    "plt.legend()\n",
    "plt.show()\n"
   ]
  },
  {
   "cell_type": "markdown",
   "id": "be9c2e76",
   "metadata": {},
   "source": [
    "#  Task 2.4 Pie Chart: Distribution of Game Outcomes by Winning Team\n",
    "Task: Create a pie chart that visualizes the distribution of wins among the top 5 teams in the dataset.\n",
    "Analysis: The pie chart will show the proportion of wins among the top 5 teams. "
   ]
  },
  {
   "cell_type": "code",
   "execution_count": null,
   "id": "ff40dbaf",
   "metadata": {},
   "outputs": [],
   "source": [
    "top_5_winning_teams =\n",
    "# plt.pie(...)\n",
    "plt.title('Top 5 Teams by Win Distribution')\n",
    "plt.show()\n"
   ]
  },
  {
   "cell_type": "markdown",
   "id": "0f84c8cc-3b29-4bca-a1d3-57ef62161e15",
   "metadata": {},
   "source": [
    "#  Task 2.5 Histogram: Distribution of Points by team\n",
    "Task: Create a histogram showing the distribution of Points scored by team.\n"
   ]
  },
  {
   "cell_type": "code",
   "execution_count": null,
   "id": "677a251e",
   "metadata": {},
   "outputs": [],
   "source": [
    "# plt.hist(...)\n",
    "plt.title('Distribution of Game Points')\n",
    "plt.xlabel('Points')\n",
    "plt.ylabel('Frequency')\n",
    "plt.show()"
   ]
  },
  {
   "cell_type": "markdown",
   "id": "1833f601",
   "metadata": {},
   "source": [
    "#  Task 2.6 Stacked Bar Plot: Wins by Teams in Different Eras (Decades)\n",
    "Task: Create a stacked bar plot showing the number of wins by teams, grouped by different decades (1970s, 1980s, 1990s, 2000s, 2010s, etc.).\n"
   ]
  },
  {
   "cell_type": "code",
   "execution_count": null,
   "id": "1a294452",
   "metadata": {},
   "outputs": [],
   "source": [
    "df['decade'] = \n",
    "top_teams = \n",
    "\n",
    "# Filter only top teams\n",
    "filtered_df = \n",
    "\n",
    "# Count wins per team per decade\n",
    "wins_per_decade = \n",
    "\n",
    "# Stacked bar plot\n",
    "# write a code to visualize dataframe\n",
    "plt.title('Wins by Team Across Different Decades')\n",
    "plt.xlabel('Decade')\n",
    "plt.ylabel('Number of Wins')\n",
    "plt.show()\n"
   ]
  },
  {
   "cell_type": "markdown",
   "id": "33d373cf-a233-41c0-a3ae-413335165974",
   "metadata": {},
   "source": [
    "# Bonus: Task 3\n",
    "Ask your own question about a dataset and answer it with a data visualization"
   ]
  },
  {
   "cell_type": "code",
   "execution_count": null,
   "id": "2dd4ff37-a5a2-4835-b5ec-ea428d018047",
   "metadata": {},
   "outputs": [],
   "source": []
  }
 ],
 "metadata": {
  "kernelspec": {
   "display_name": "Python 3 (ipykernel)",
   "language": "python",
   "name": "python3"
  },
  "language_info": {
   "codemirror_mode": {
    "name": "ipython",
    "version": 3
   },
   "file_extension": ".py",
   "mimetype": "text/x-python",
   "name": "python",
   "nbconvert_exporter": "python",
   "pygments_lexer": "ipython3",
   "version": "3.9.19"
  }
 },
 "nbformat": 4,
 "nbformat_minor": 5
}

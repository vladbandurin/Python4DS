{
 "cells": [
  {
   "cell_type": "markdown",
   "id": "3852ed20-38c9-4b0b-8237-98c42f83d3b6",
   "metadata": {},
   "source": [
    "# Mastering Date and Time Manipulations in Python\n"
   ]
  },
  {
   "cell_type": "code",
   "execution_count": null,
   "id": "52af5bf6-9263-49da-8bdf-373045c6de1d",
   "metadata": {},
   "outputs": [],
   "source": []
  },
  {
   "cell_type": "markdown",
   "id": "8c5b0803-300a-46d3-a726-7c8167d958d3",
   "metadata": {},
   "source": [
    "# Task 1: Basic Date and Time Manipulations\n"
   ]
  },
  {
   "cell_type": "code",
   "execution_count": null,
   "id": "c98f5e63-fccf-4cb8-bd5f-1f29ebdee812",
   "metadata": {},
   "outputs": [],
   "source": [
    "# TODO: Displays the current date and time."
   ]
  },
  {
   "cell_type": "code",
   "execution_count": null,
   "id": "5c83b456-5309-4af3-a4ea-f54e362e72cb",
   "metadata": {},
   "outputs": [],
   "source": [
    "# TODO: Extracts and prints the current year, month, day, hour, minute, and second."
   ]
  },
  {
   "cell_type": "code",
   "execution_count": null,
   "id": "2a9ac73e-59f6-4d32-8b5c-9f0e007aea82",
   "metadata": {},
   "outputs": [],
   "source": [
    "# TODO: Adds 10 days to the current date and displays the new date."
   ]
  },
  {
   "cell_type": "code",
   "execution_count": null,
   "id": "f9e9eaaa-d0b3-41f6-9182-096fbe1d8a17",
   "metadata": {},
   "outputs": [],
   "source": [
    "# TODO: Subtracts 5 hours from the current time and displays the resulting time."
   ]
  },
  {
   "cell_type": "markdown",
   "id": "6f2f6601-963d-4f19-b285-64ce51ddc9b2",
   "metadata": {},
   "source": [
    "# Task 2: String Formatting and Parsing Dates\n",
    "Write a program that:\n",
    "1. Takes a user-inputted date in the format \"DD/MM/YYYY\".\n",
    "2. Converts this string into a datetime object using strptime().\n",
    "3. Outputs the date in the following formats:\n",
    "- \"YYYY-MM-DD\" (ISO format)\n",
    "- \"Month Day, Year\" (e.g., \"September 13, 2024\")\n",
    "- \"Day-Month-Year\" (e.g., \"13-09-2024\")\n"
   ]
  },
  {
   "cell_type": "code",
   "execution_count": 3,
   "id": "24185e85-dfac-46e9-8e35-443dafd01f2d",
   "metadata": {},
   "outputs": [
    {
     "name": "stdin",
     "output_type": "stream",
     "text": [
      "Enter the date (DD/MM/YYYY):  12/05/1999\n"
     ]
    },
    {
     "data": {
      "text/plain": [
       "'12/05/1999'"
      ]
     },
     "execution_count": 3,
     "metadata": {},
     "output_type": "execute_result"
    }
   ],
   "source": [
    "from datetime import datetime\n",
    "\n",
    "# Input date in \"DD/MM/YYYY\" format\n",
    "date_str = input(\"Enter the date (DD/MM/YYYY): \")\n",
    "date_str"
   ]
  },
  {
   "cell_type": "code",
   "execution_count": 4,
   "id": "5a90ddc4-d907-4b52-8281-01d417954f11",
   "metadata": {},
   "outputs": [],
   "source": [
    "# TODO: Converts this string into a datetime object using strptime().\n",
    "date_obj = datetime.strptime(date_str, \"%d/%m/%Y\")\n",
    "\n",
    "# TODO: Format and display the date in various formats (use strftime)\n",
    "\n",
    "# print(\"ISO format (YYYY-MM-DD):\", )\n",
    "# print(\"Long format (Month Day, Year):\", )\n",
    "# print(\"Day-Month-Year format:\", )"
   ]
  },
  {
   "cell_type": "markdown",
   "id": "e2ca66d8-dd2a-41b2-b56f-ab9310289902",
   "metadata": {},
   "source": [
    "# Task 3: Calculating Age\n",
    "\n",
    "Write a script that:\n",
    "1. Takes a user’s date of birth as input (format: \"YYYY-MM-DD\").\n",
    "2. Calculates their age in years, months, and days.\n",
    "3. Prints the age in the format: \"You are X years, Y months, and Z days old.\"\n",
    "\n",
    "Hints: Use relativedelta from the dateutil package to calculate the difference between two dates.\n"
   ]
  },
  {
   "cell_type": "code",
   "execution_count": 6,
   "id": "d133ff6a-9387-4f39-bd0e-c3dfcf8e8c5a",
   "metadata": {},
   "outputs": [
    {
     "name": "stdin",
     "output_type": "stream",
     "text": [
      "Enter your date of birth (YYYY-MM-DD):  1999-05-12\n"
     ]
    }
   ],
   "source": [
    "from datetime import datetime\n",
    "from dateutil.relativedelta import relativedelta\n",
    "\n",
    "# TODO: Input date of birth in \"YYYY-MM-DD\" format\n",
    "dob_str = input(\"Enter your date of birth (YYYY-MM-DD): \")\n",
    "dob = "
   ]
  },
  {
   "cell_type": "code",
   "execution_count": 8,
   "id": "2408d314-862e-431b-ae26-d29286774958",
   "metadata": {},
   "outputs": [],
   "source": [
    "# TODO: Calculate the age using relativedelta\n",
    "now = \n",
    "age = \n",
    "\n",
    "# Display the age\n",
    "print(f\"You are {age.years} years, {age.months} months, and {age.days} days old.\")"
   ]
  },
  {
   "cell_type": "markdown",
   "id": "f94ad697-b3be-4396-92de-28b5793c7583",
   "metadata": {},
   "source": [
    "# Assignment 4: Working with Time Zones\n",
    "Write a script that:\n",
    "1. Displays the current local date and time.\n",
    "2. Converts this local time into two different time zones (e.g., \"America/New_York\" and \"Asia/Tokyo\").\n",
    "3. Prints the converted times along with their respective time zones.\n",
    "\n",
    "Requirements: Use dateutil.tz to work with time zones."
   ]
  },
  {
   "cell_type": "code",
   "execution_count": null,
   "id": "3d05f9a0-2c9d-46b3-8209-b533247b74e2",
   "metadata": {},
   "outputs": [],
   "source": [
    "from datetime import datetime\n",
    "from dateutil import tz\n",
    "\n",
    "# TODO: Get the local time zone\n",
    "local_tz =  # Replace with code to get local timezone\n",
    "local_time =  # Replace with code to get local time\n",
    "print(\"Current local time:\", local_time)\n"
   ]
  },
  {
   "cell_type": "code",
   "execution_count": null,
   "id": "36ea2438-db1f-45cc-b9f3-1d8f82c78689",
   "metadata": {},
   "outputs": [],
   "source": [
    "# TODO: Get time for a specific time zone (e.g., New York)\n",
    "ny_tz =   # Replace with code to get New York timezone\n",
    "ny_time =  # Replace with code to get time in New York\n",
    "print(\"Current time in New York:\", ny_time)"
   ]
  },
  {
   "cell_type": "code",
   "execution_count": null,
   "id": "f637720c-3bd2-4705-95df-5322fcb585d3",
   "metadata": {},
   "outputs": [],
   "source": [
    "# TODO: Get time for another specific time zone (e.g., Tokyo)\n",
    "tokyo_tz =   # Replace with code to get Tokyo timezone\n",
    "tokyo_time =   # Replace with code to get time in Tokyo\n",
    "print(\"Current time in Tokyo:\", tokyo_time)"
   ]
  },
  {
   "cell_type": "markdown",
   "id": "862fc5c7-5726-4b2d-a60f-42beaa337574",
   "metadata": {},
   "source": [
    "# Assignment 5: Time Left Until the End of the Lesson\n",
    "Create a program that calculates how much time is left until the end of the current lesson. The program will use a Pandas DataFrame to store the lesson schedule for the day. The user will input the start and end times of each lesson, and the program will then determine how much time remains for the ongoing lesson.\n",
    "\n",
    "Task Breakdown:\n",
    "1. Create a Pandas DataFrame to store the day's lesson schedule, including:\n",
    "- Lesson name (e.g., \"Math\").\n",
    "- Start time (in \"HH\" format).\n",
    "- End time (in \"HH\" format).\n",
    "\n",
    "2. Use the current time to identify which lesson is currently ongoing.\n",
    "3. Calculate and display the time left until the end of the ongoing lesson.\n",
    "4. If no lesson is ongoing, print a message stating that no lessons are currently in session.\n",
    "\n",
    "<b> Advanced Challenge:</b> Implement this task for your schedule at University (for the week)\n",
    "\n"
   ]
  },
  {
   "cell_type": "code",
   "execution_count": 12,
   "id": "fa345c74-decb-42b3-936d-da409a61470b",
   "metadata": {},
   "outputs": [
    {
     "data": {
      "text/html": [
       "<div>\n",
       "<style scoped>\n",
       "    .dataframe tbody tr th:only-of-type {\n",
       "        vertical-align: middle;\n",
       "    }\n",
       "\n",
       "    .dataframe tbody tr th {\n",
       "        vertical-align: top;\n",
       "    }\n",
       "\n",
       "    .dataframe thead th {\n",
       "        text-align: right;\n",
       "    }\n",
       "</style>\n",
       "<table border=\"1\" class=\"dataframe\">\n",
       "  <thead>\n",
       "    <tr style=\"text-align: right;\">\n",
       "      <th></th>\n",
       "      <th>Lesson</th>\n",
       "      <th>Start Time</th>\n",
       "      <th>End Time</th>\n",
       "    </tr>\n",
       "  </thead>\n",
       "  <tbody>\n",
       "    <tr>\n",
       "      <th>0</th>\n",
       "      <td>Math</td>\n",
       "      <td>09:00</td>\n",
       "      <td>09:45</td>\n",
       "    </tr>\n",
       "    <tr>\n",
       "      <th>1</th>\n",
       "      <td>Science</td>\n",
       "      <td>10:00</td>\n",
       "      <td>10:45</td>\n",
       "    </tr>\n",
       "    <tr>\n",
       "      <th>2</th>\n",
       "      <td>History</td>\n",
       "      <td>11:00</td>\n",
       "      <td>11:45</td>\n",
       "    </tr>\n",
       "    <tr>\n",
       "      <th>3</th>\n",
       "      <td>Programming</td>\n",
       "      <td>13:00</td>\n",
       "      <td>13:45</td>\n",
       "    </tr>\n",
       "  </tbody>\n",
       "</table>\n",
       "</div>"
      ],
      "text/plain": [
       "        Lesson Start Time End Time\n",
       "0         Math      09:00    09:45\n",
       "1      Science      10:00    10:45\n",
       "2      History      11:00    11:45\n",
       "3  Programming      13:00    13:45"
      ]
     },
     "execution_count": 12,
     "metadata": {},
     "output_type": "execute_result"
    }
   ],
   "source": [
    "import pandas as pd\n",
    "from datetime import datetime\n",
    "\n",
    "# TODO: Create a DataFrame to store the lesson schedule\n",
    "data = {\n",
    "    \"Lesson\": [\"Math\", \"Science\", \"History\", \"Programming\"],\n",
    "    \"Start Time\": [\"09:00\", \"10:00\", \"11:00\", \"13:00\"],\n",
    "    \"End Time\": [\"09:45\", \"10:45\", \"11:45\", \"13:45\"]\n",
    "}\n",
    "schedule_df = pd.DataFrame(data)\n",
    "schedule_df"
   ]
  },
  {
   "cell_type": "code",
   "execution_count": null,
   "id": "a955e2ae-a842-4477-b266-9fd8c50e92e7",
   "metadata": {
    "tags": []
   },
   "outputs": [],
   "source": [
    "from datetime import timedelta\n",
    "\n",
    "# TODO: Get the current time\n",
    "now = datetime.now() # Use timedelta(hours=) for testing\n",
    "current_time = now.strftime(\"%H:%M\")\n",
    "\n",
    "# TODO: Identify the current ongoing lesson\n",
    "ongoing_lesson = None\n",
    "time_left = None\n",
    "\n",
    "for index, row in schedule_df.iterrows():\n",
    "    \n",
    "    start_time = datetime.strptime(row[\"Start Time\"], \"%H:%M\")\n",
    "    end_time = datetime.strptime(row[\"End Time\"], \"%H:%M\")\n",
    "\n",
    "    # Check if the current time falls within the lesson's time range\n",
    "    # if (TODO: Add the conditions here):\n",
    "        ongoing_lesson = row[\"Lesson\"]\n",
    "        \n",
    "        # TODO: Calculate the remaining time until the lesson ends\n",
    "        time_left =  # Convert seconds to minutes\n",
    "        break\n",
    "\n",
    "# TODO: Display the result\n",
    "if ongoing_lesson:\n",
    "    print(f\"The current lesson is '{ongoing_lesson}'. Time left: {time_left} minutes.\")\n",
    "else:\n",
    "    print(\"No lesson is currently in session.\")\n"
   ]
  },
  {
   "cell_type": "code",
   "execution_count": null,
   "id": "4e246d95-56b0-4759-a526-aa9b01ab80f2",
   "metadata": {},
   "outputs": [],
   "source": []
  }
 ],
 "metadata": {
  "kernelspec": {
   "display_name": "Python 3 (ipykernel)",
   "language": "python",
   "name": "python3"
  },
  "language_info": {
   "codemirror_mode": {
    "name": "ipython",
    "version": 3
   },
   "file_extension": ".py",
   "mimetype": "text/x-python",
   "name": "python",
   "nbconvert_exporter": "python",
   "pygments_lexer": "ipython3",
   "version": "3.9.13"
  }
 },
 "nbformat": 4,
 "nbformat_minor": 5
}

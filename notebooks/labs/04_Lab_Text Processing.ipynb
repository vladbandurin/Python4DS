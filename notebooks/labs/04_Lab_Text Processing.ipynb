{
 "cells": [
  {
   "cell_type": "markdown",
   "id": "afb2c793",
   "metadata": {},
   "source": [
    "##### Task 1.1. Write a function to check if an email adress is correct (use re python module)"
   ]
  },
  {
   "cell_type": "code",
   "execution_count": null,
   "id": "924b8eee",
   "metadata": {},
   "outputs": [],
   "source": [
    "import re\n",
    "\n",
    "def is_valid_email(email):\n",
    "    \"\"\"\n",
    "      Args:\n",
    "        email: string to check\n",
    "\n",
    "      Returns:\n",
    "        True, if row is a correct email, or False.\n",
    "    \"\"\"\n",
    "    # write a correct regular expression to check emails\n",
    "    pattern = ''\n",
    "    \n",
    "    return # use a correct function from `re` module\n"
   ]
  },
  {
   "cell_type": "markdown",
   "id": "26a8eb63",
   "metadata": {},
   "source": [
    "##### Task 1.2. Write a function which removes all the numbers from the text (use re python module)"
   ]
  },
  {
   "cell_type": "code",
   "execution_count": null,
   "id": "ee66dc77",
   "metadata": {},
   "outputs": [],
   "source": [
    "def remove_numbers(text):\n",
    "    \"\"\"\n",
    "      Args:\n",
    "        text: input text\n",
    "\n",
    "      Returns:\n",
    "        Text without numbers\n",
    "    \"\"\"\n",
    "    # write a correct regular expression to remove numbers\n",
    "    pattern = ''\n",
    "    \n",
    "    return # use a correct function from `re` module"
   ]
  },
  {
   "cell_type": "code",
   "execution_count": null,
   "id": "6f104f98",
   "metadata": {},
   "outputs": [],
   "source": []
  },
  {
   "cell_type": "code",
   "execution_count": 1,
   "id": "c489a4e7",
   "metadata": {},
   "outputs": [
    {
     "data": {
      "text/html": [
       "<div>\n",
       "<style scoped>\n",
       "    .dataframe tbody tr th:only-of-type {\n",
       "        vertical-align: middle;\n",
       "    }\n",
       "\n",
       "    .dataframe tbody tr th {\n",
       "        vertical-align: top;\n",
       "    }\n",
       "\n",
       "    .dataframe thead th {\n",
       "        text-align: right;\n",
       "    }\n",
       "</style>\n",
       "<table border=\"1\" class=\"dataframe\">\n",
       "  <thead>\n",
       "    <tr style=\"text-align: right;\">\n",
       "      <th></th>\n",
       "      <th>tweet_id</th>\n",
       "      <th>sentiment</th>\n",
       "      <th>content</th>\n",
       "    </tr>\n",
       "  </thead>\n",
       "  <tbody>\n",
       "    <tr>\n",
       "      <th>0</th>\n",
       "      <td>1956967341</td>\n",
       "      <td>empty</td>\n",
       "      <td>@tiffanylue i know  i was listenin to bad habi...</td>\n",
       "    </tr>\n",
       "    <tr>\n",
       "      <th>1</th>\n",
       "      <td>1956967666</td>\n",
       "      <td>sadness</td>\n",
       "      <td>Layin n bed with a headache  ughhhh...waitin o...</td>\n",
       "    </tr>\n",
       "    <tr>\n",
       "      <th>2</th>\n",
       "      <td>1956967696</td>\n",
       "      <td>sadness</td>\n",
       "      <td>Funeral ceremony...gloomy friday...</td>\n",
       "    </tr>\n",
       "    <tr>\n",
       "      <th>3</th>\n",
       "      <td>1956967789</td>\n",
       "      <td>enthusiasm</td>\n",
       "      <td>wants to hang out with friends SOON!</td>\n",
       "    </tr>\n",
       "    <tr>\n",
       "      <th>4</th>\n",
       "      <td>1956968416</td>\n",
       "      <td>neutral</td>\n",
       "      <td>@dannycastillo We want to trade with someone w...</td>\n",
       "    </tr>\n",
       "  </tbody>\n",
       "</table>\n",
       "</div>"
      ],
      "text/plain": [
       "     tweet_id   sentiment                                            content\n",
       "0  1956967341       empty  @tiffanylue i know  i was listenin to bad habi...\n",
       "1  1956967666     sadness  Layin n bed with a headache  ughhhh...waitin o...\n",
       "2  1956967696     sadness                Funeral ceremony...gloomy friday...\n",
       "3  1956967789  enthusiasm               wants to hang out with friends SOON!\n",
       "4  1956968416     neutral  @dannycastillo We want to trade with someone w..."
      ]
     },
     "execution_count": 1,
     "metadata": {},
     "output_type": "execute_result"
    }
   ],
   "source": [
    "import pandas as pd\n",
    "import matplotlib.pyplot as plt # you can use seaborn or any other visualization tool \n",
    "\n",
    "\n",
    "df = pd.read_csv('tweet_emotions.csv') # change path to file if you need\n",
    "df.head()"
   ]
  },
  {
   "cell_type": "markdown",
   "id": "dd07c076",
   "metadata": {},
   "source": [
    "##### Task 2.1. Calculate the amount of records for each sentiment. Build a chart which displays the result."
   ]
  },
  {
   "cell_type": "code",
   "execution_count": null,
   "id": "c0c48317",
   "metadata": {},
   "outputs": [],
   "source": [
    "sentiment_counts = \n",
    "\n",
    "# visualize result as a barchart\n"
   ]
  },
  {
   "cell_type": "markdown",
   "id": "fd03a0f2",
   "metadata": {},
   "source": [
    "##### Task 2.2. Calculate an average length of records for each sentiment. Build a chart which displays the result."
   ]
  },
  {
   "cell_type": "code",
   "execution_count": null,
   "id": "91f5c657",
   "metadata": {},
   "outputs": [],
   "source": [
    "df['text_length'] = \n",
    "\n",
    "# calculate mean text length for each sentiment\n",
    "mean_length_by_sentiment = \n",
    "\n",
    "# visualize result as a barchart\n"
   ]
  },
  {
   "cell_type": "markdown",
   "id": "5cb98789",
   "metadata": {},
   "source": [
    "##### Task 2.3. Compare average words count in each record for each category. Build a chart which displays the result."
   ]
  },
  {
   "cell_type": "code",
   "execution_count": null,
   "id": "633c380e",
   "metadata": {},
   "outputs": [],
   "source": [
    "import nltk\n",
    "from nltk.tokenize import word_tokenize\n",
    "\n",
    "def count_words(text):\n",
    "    words = # use word_tokenize function from nltk module\n",
    "    return # return the amount of rows\n",
    "\n",
    "# apply your function to each record\n",
    "df['word_count'] = df['content'].apply(count_words)\n",
    "\n",
    "# calculate average amount of words for each sentiment\n",
    "mean_word_count_by_sentiment = \n",
    "\n",
    "# visualize result as a barchart\n"
   ]
  },
  {
   "cell_type": "markdown",
   "id": "e03f7622",
   "metadata": {},
   "source": [
    "##### Task 2.4 (optional) You can build any other visualization to display additional findings about source dataset"
   ]
  },
  {
   "cell_type": "code",
   "execution_count": null,
   "id": "3d6ad73c",
   "metadata": {},
   "outputs": [],
   "source": []
  },
  {
   "cell_type": "markdown",
   "id": "77dd18c2",
   "metadata": {},
   "source": [
    "##### Task 3. Your main task is to do a text processing on the provided dataset similar to what we did on the lecture (text cleaning, tokenization, lemmatezation, stop-words removing, stemming)\n",
    "\n",
    "\n",
    "1) check if there is any emty rows\n",
    "2) check if dataset is balanced or not\n",
    "3) calculate content polarity using TextBlob module\n",
    "4) build a histogram which shows distribution of polarity for sentiment `worry`\n",
    "5) build a histogram which shows distribution of polarity for sentiment `happiness`\n",
    "6) remove punctuation\n",
    "7) remove stopwords \n",
    "8) remove numbers\n",
    "9) you can add any other analysis which looks interesting for you or build additional visualizations (like WordCloude)"
   ]
  },
  {
   "cell_type": "code",
   "execution_count": null,
   "id": "aafba142",
   "metadata": {},
   "outputs": [],
   "source": []
  },
  {
   "cell_type": "code",
   "execution_count": null,
   "id": "6adc6ee8",
   "metadata": {},
   "outputs": [],
   "source": []
  },
  {
   "cell_type": "code",
   "execution_count": null,
   "id": "ee31942c",
   "metadata": {},
   "outputs": [],
   "source": []
  }
 ],
 "metadata": {
  "kernelspec": {
   "display_name": "Python 3 (ipykernel)",
   "language": "python",
   "name": "python3"
  },
  "language_info": {
   "codemirror_mode": {
    "name": "ipython",
    "version": 3
   },
   "file_extension": ".py",
   "mimetype": "text/x-python",
   "name": "python",
   "nbconvert_exporter": "python",
   "pygments_lexer": "ipython3",
   "version": "3.8.10"
  }
 },
 "nbformat": 4,
 "nbformat_minor": 5
}

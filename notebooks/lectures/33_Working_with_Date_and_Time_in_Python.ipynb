{
 "cells": [
  {
   "cell_type": "markdown",
   "id": "0e85da14-ed0b-493e-96b6-7560a6fd0855",
   "metadata": {},
   "source": [
    "# Work With Dates and Times in Python\n"
   ]
  },
  {
   "cell_type": "markdown",
   "id": "d9c33a33-d743-45d4-a29c-d00af0cbf8cb",
   "metadata": {},
   "source": [
    "## Як комп'ютери рахують час\n",
    "\n",
    "Майже всі комп'ютери відраховують час від моменту, який називається епохою Unix. Це сталося <b>1 січня 1970 року о 00:00:00 за UTC.</b>import time\n",
    "time.time() UTC означає Всесвітній координований час і відноситься до часу на довготі 0°. UTC часто також називають середнім часом за Грінвічем, або GMT. UTC не коригується на літній час, тому постійно зберігає 24 години в кожній добі.\n",
    "\n",
    "За визначенням, час Unix збігається з часом UTC, тому кожен секундний крок в UTC відповідає секундному кроку в Unix часі. Ви зазвичай можете визначити дату та час у UTC для будь-якого моменту з 1 січня 1970 року, підрахувавши кількість секунд з моменту епохи Unix, за винятком високосних секунд. Високосні секунди іноді додаються до UTC для врахування уповільнення обертання Землі, але не додаються до часу Unix.\n",
    "\n",
    "### Примітка: Існує цікавий баг, пов'язаний з часом Unix. \n",
    "\n",
    "Оскільки багато старих операційних систем є 32-бітними, вони зберігають Unix час у 32-бітному знаковому цілому числі.\n",
    "\n",
    "Це означає, що о 03:14:07 19 січня 2038 року це число переповниться, що призведе до проблеми, відомої як проблема 2038 року, або Y2038. Подібно до проблеми Y2K, проблему Y2038 потрібно буде вирішити, щоб уникнути катастрофічних наслідків для критичних систем.\n"
   ]
  },
  {
   "cell_type": "markdown",
   "id": "fbd5560e-d31c-40e4-a818-3eaf80833a4e",
   "metadata": {},
   "source": [
    "Майже всі мови програмування, включаючи Python, використовують концепцію часу Unix. Стандартна бібліотека Python містить модуль під назвою `time`, який може вивести кількість секунд, що минули з моменту епохи Unix:\n"
   ]
  },
  {
   "cell_type": "code",
   "execution_count": 2,
   "id": "255a9fda-5b7e-493b-96fc-f23a9d1617cf",
   "metadata": {},
   "outputs": [
    {
     "data": {
      "text/plain": [
       "1726256678.7153122"
      ]
     },
     "execution_count": 2,
     "metadata": {},
     "output_type": "execute_result"
    }
   ],
   "source": [
    "import time\n",
    "time.time()"
   ]
  },
  {
   "cell_type": "markdown",
   "id": "2b96fe9f-38eb-411d-8945-86b83a4dd715",
   "metadata": {},
   "source": [
    "## Як можна повідомляти стандартні дати\n",
    "\n",
    "Час Unix — це спосіб, яким комп'ютери рахують час, але для людей було б надзвичайно неефективно визначати час, обчислюючи кількість секунд від довільної дати. Замість цього ми працюємо з роками, місяцями, днями тощо. Проте, навіть з цими умовностями, виникає ще один шар складності, оскільки різні мови та культури мають різні способи запису дати.\n",
    "\n",
    "Наприклад, у Сполучених Штатах дати зазвичай записуються, починаючи з місяця, потім день, а потім рік. Це означає, що 31 січня 2020 року записується як 01-31-2020. Це близько до розширеної форми письмової версії дати.\n",
    "\n",
    "Однак у більшості країн Європи та в багатьох інших регіонах дата записується, починаючи з дня, потім місяць, а потім рік. Це означає, що 31 січня 2020 року записується як 31-01-2020. Ці відмінності можуть викликати різноманітні непорозуміння при спілкуванні між культурами.\n",
    "\n",
    "Щоб уникнути помилок у спілкуванні, Міжнародна організація зі стандартизації (ISO) розробила стандарт ISO 8601. Цей стандарт визначає, що всі дати мають бути записані в порядку від найважливіших до найменш значущих даних. Це означає, що формат виглядає так: рік, місяць, день, година, хвилина та секунда:\n"
   ]
  },
  {
   "cell_type": "code",
   "execution_count": 4,
   "id": "372c4cd9-789e-4e03-98e3-d7d1c111430e",
   "metadata": {},
   "outputs": [],
   "source": [
    "# YYYY-MM-DD HH:MM:SS"
   ]
  },
  {
   "cell_type": "markdown",
   "id": "e61ddf93-1482-498a-b175-854570babd70",
   "metadata": {},
   "source": [
    "У цьому прикладі `YYYY` представляє рік з чотирьох цифр, а `MM` і `DD` — це двозначні місяць і день, де, за потреби, на початку додається нуль. Після цього, `HH`, `MM` і `SS` представляють двозначні години, хвилини та секунди, з нулем на початку, якщо це необхідно.\n",
    "\n",
    "Перевага цього формату полягає в тому, що дата може бути представлена без неоднозначності. Дати, записані у форматі `DD-MM-YYYY` або `MM-DD-YYYY`, можуть бути неправильно інтерпретовані, якщо день є дійсним числом місяця.\n"
   ]
  },
  {
   "cell_type": "markdown",
   "id": "d08accec-aeab-4d51-8c75-623c4347a4a2",
   "metadata": {},
   "source": [
    "## Використання модуля Python datetime\n",
    "\n",
    "У цьому туторіалі основна увага приділяється використанню модуля Python `datetime`. Головна мета `datetime` — зробити доступ до атрибутів об’єктів, пов'язаних з датами, часом і часовими поясами, менш складним.\n",
    "\n",
    "Модуль `time` є менш потужним і складнішим у використанні, ніж `datetime`. Багато функцій у `time` повертають спеціальний екземпляр `struct_time`. Цей об'єкт має інтерфейс іменованого кортежу для доступу до збережених даних, що робить його схожим на екземпляр `datetime`. Однак, він не підтримує всі можливості `datetime`, зокрема арифметичні операції з часовими значеннями.\n",
    "\n",
    "Модуль `datetime` надає три класи, які складають високорівневий інтерфейс, що використовується більшістю користувачів:\n",
    "\n",
    "- `datetime.date` — ідеалізована дата, яка передбачає, що григоріанський календар поширюється в нескінченне майбутнє і минуле. Цей об'єкт зберігає рік, місяць і день як атрибути.\n",
    "- `datetime.time` — ідеалізований час, що передбачає, що кожен день має 86 400 секунд без високосних секунд. Цей об'єкт зберігає годину, хвилину, секунду, мікросекунду та `tzinfo` (інформацію про часовий пояс).\n",
    "- `datetime.datetime` — це комбінація дати та часу. Він має всі атрибути обох класів.\n"
   ]
  },
  {
   "cell_type": "markdown",
   "id": "1e8aa068-5e6c-47df-9ad6-8b073baa7c83",
   "metadata": {},
   "source": [
    "## Створення екземплярів Python datetime\n",
    "\n",
    "Три класи, які представляють дати та час у модулі `datetime`, мають подібні ініціалізатори. Вони можуть бути створені шляхом передачі іменованих аргументів для кожного з атрибутів, таких як рік, день або година. Ви можете спробувати наведений нижче код, щоб зрозуміти, як створюються кожні з цих об'єктів:\n"
   ]
  },
  {
   "cell_type": "code",
   "execution_count": 9,
   "id": "5951caf9-92cf-48fd-9258-73ac26c44c7c",
   "metadata": {},
   "outputs": [
    {
     "name": "stdout",
     "output_type": "stream",
     "text": [
      "Дата: 2023-09-13\n",
      "Час: 14:30:00\n",
      "Дата та час: 2023-09-13 14:30:00\n"
     ]
    }
   ],
   "source": [
    "import datetime\n",
    "\n",
    "# Створення екземпляра для дати\n",
    "date_obj = datetime.date(year=2023, month=9, day=13)\n",
    "print(\"Дата:\", date_obj)\n",
    "\n",
    "# Створення екземпляра для часу\n",
    "time_obj = datetime.time(hour=14, minute=30, second=0)\n",
    "print(\"Час:\", time_obj)\n",
    "\n",
    "# Створення екземпляра для дати та часу\n",
    "datetime_obj = datetime.datetime(year=2023, month=9, day=13, hour=14, minute=30, second=0)\n",
    "print(\"Дата та час:\", datetime_obj)\n"
   ]
  },
  {
   "cell_type": "markdown",
   "id": "2cab7a4f-436e-47cf-9a1e-b0b4c20c9a8e",
   "metadata": {},
   "source": [
    "## Альтернативні способи створення екземплярів Python datetime\n",
    "\n",
    "У наведеному коді ви імпортуєте три основні класи з модуля `datetime` і створюєте кожен із них, передаючи аргументи до конструктора. Ви можете помітити, що цей код є досить багатослівним, і якщо у вас немає необхідної інформації у вигляді цілих чисел, ці методи не можна використовувати для створення екземплярів `datetime`.\n",
    "\n",
    "На щастя, `datetime` надає кілька інших зручних способів створення екземплярів `datetime`. Ці методи не вимагають від вас використання цілих чисел для зазначення кожного атрибута, а дозволяють використовувати іншу інформацію:\n",
    "\n",
    "- `date.today()` створює екземпляр `datetime.date` з поточною локальною датою.\n",
    "- `datetime.now()` створює екземпляр `datetime.datetime` з поточною локальною датою та часом.\n",
    "- `datetime.combine()` об'єднує екземпляри `datetime.date` та `datetime.time` в один екземпляр `datetime.datetime`.\n",
    "\n",
    "Ці три способи створення екземплярів `datetime` корисні, коли ви заздалегідь не знаєте, яку інформацію потрібно передати в базові ініціалізатори. Ви можете спробувати наступний код, щоб побачити, як працюють альтернативні ініціалізатори:"
   ]
  },
  {
   "cell_type": "code",
   "execution_count": 14,
   "id": "fdc49586-4e47-4405-8107-cb2279785a6f",
   "metadata": {},
   "outputs": [
    {
     "name": "stdout",
     "output_type": "stream",
     "text": [
      "Сьогоднішня дата: 2024-09-13\n"
     ]
    }
   ],
   "source": [
    "# Отримання поточної дати\n",
    "today_date = datetime.date.today()\n",
    "print(\"Сьогоднішня дата:\", today_date)"
   ]
  },
  {
   "cell_type": "code",
   "execution_count": 15,
   "id": "b1af99d3-a85b-4ed0-8e69-b88196648f61",
   "metadata": {},
   "outputs": [
    {
     "name": "stdout",
     "output_type": "stream",
     "text": [
      "Поточна дата і час: 2024-09-13 22:58:49.287627\n"
     ]
    }
   ],
   "source": [
    "# Отримання поточної дати та часу\n",
    "now_datetime = datetime.datetime.now()\n",
    "print(\"Поточна дата і час:\", now_datetime)"
   ]
  },
  {
   "cell_type": "code",
   "execution_count": 16,
   "id": "1dfc768c-d9c4-4de3-a4bc-fc44ce557eae",
   "metadata": {},
   "outputs": [
    {
     "name": "stdout",
     "output_type": "stream",
     "text": [
      "Комбінована дата і час: 2023-09-13 14:30:00\n"
     ]
    }
   ],
   "source": [
    "# Комбінування дати та часу\n",
    "date_obj = datetime.date(2023, 9, 13)\n",
    "time_obj = datetime.time(14, 30)\n",
    "\n",
    "combined_datetime = datetime.datetime.combine(date_obj, time_obj)\n",
    "print(\"Комбінована дата і час:\", combined_datetime)"
   ]
  },
  {
   "cell_type": "markdown",
   "id": "542d34d0-8709-46cf-9326-6cffbf8f4d7f",
   "metadata": {},
   "source": [
    "У цьому коді ви використовуєте `date.today()`, `datetime.now()` та `datetime.combine()` для створення екземплярів об'єктів `date`, `datetime` та `time`. Кожен екземпляр зберігається в окремій змінній:\n",
    "\n",
    "- `today` — це екземпляр `date`, який містить тільки рік, місяць і день.\n",
    "- `now` — це екземпляр `datetime`, який містить рік, місяць, день, годину, хвилину, секунду та мікросекунди.\n",
    "- `current_time` — це екземпляр `time`, в якому годину, хвилину та секунду встановлено на ті ж значення, що і в `now`.\n",
    "\n",
    "На останньому рядку ви об'єднуєте інформацію про дату з `today` з інформацією про час із `current_time`, щоб створити новий екземпляр `datetime`.\n"
   ]
  },
  {
   "cell_type": "markdown",
   "id": "70db4ecc-e2da-484e-918e-f57c7e978307",
   "metadata": {},
   "source": [
    "## Використання рядків для створення екземплярів Python datetime\n",
    "\n",
    "Ще один спосіб створення екземплярів дати — це використання методу `.fromisoformat()`. Для використання цього методу ви передаєте рядок з датою у форматі ISO 8601, про який ви вже дізналися раніше. Наприклад, ви можете передати рядок, у якому вказані рік, місяць і день:\n",
    "\n"
   ]
  },
  {
   "cell_type": "markdown",
   "id": "23e72551-61b2-4463-8d9a-a9eefac88888",
   "metadata": {},
   "source": [
    "```2020-01-31```\n",
    "\n",
    "Цей рядок представляє дату 31 січня 2020 року відповідно до формату ISO 8601. Ви можете створити екземпляр дати за допомогою наступного прикладу:"
   ]
  },
  {
   "cell_type": "code",
   "execution_count": 18,
   "id": "c8092d07-a5a1-4dd7-873e-e4129f0fab9b",
   "metadata": {},
   "outputs": [
    {
     "data": {
      "text/plain": [
       "datetime.date(2020, 1, 31)"
      ]
     },
     "execution_count": 18,
     "metadata": {},
     "output_type": "execute_result"
    }
   ],
   "source": [
    "from datetime import date\n",
    "date.fromisoformat(\"2020-01-31\")"
   ]
  },
  {
   "cell_type": "markdown",
   "id": "c6ab7bf4-4262-4d09-ad21-3c57be1bda64",
   "metadata": {},
   "source": [
    "## Використання `.strptime()` для створення екземплярів datetime з рядків\n",
    "\n",
    "Метод `.fromisoformat()` дуже корисний, оскільки він базується на стандарті ISO 8601. Але що робити, якщо у вас є рядок, який представляє дату та час, але не у форматі ISO 8601?\n",
    "\n",
    "На щастя, Python `datetime` надає метод під назвою `.strptime()`, який допомагає вирішити цю проблему. Цей метод використовує спеціальну мову форматування для того, щоб Python міг зрозуміти, які частини рядка відповідають атрибутам `datetime`.\n",
    "\n",
    "Щоб створити екземпляр `datetime` з рядка за допомогою `.strptime()`, потрібно вказати Python, що кожна частина рядка представляє, використовуючи форматування з цієї міні-мови. Ви можете спробувати цей приклад, щоб побачити, як працює `.strptime()`:"
   ]
  },
  {
   "cell_type": "code",
   "execution_count": 21,
   "id": "fe15fd24-6b12-45d5-8d61-4ade554c2863",
   "metadata": {},
   "outputs": [
    {
     "name": "stdout",
     "output_type": "stream",
     "text": [
      "Дата і час з рядка: 2020-01-31 14:30:00\n"
     ]
    }
   ],
   "source": [
    "import datetime\n",
    "\n",
    "# Рядок, що представляє дату та час\n",
    "date_str = \"31/01/2020 14:30:00\"\n",
    "\n",
    "# Створення екземпляра datetime з рядка за допомогою .strptime()\n",
    "date_time_obj = datetime.datetime.strptime(date_str, \"%d/%m/%Y %H:%M:%S\")\n",
    "\n",
    "print(\"Дата і час з рядка:\", date_time_obj)"
   ]
  },
  {
   "cell_type": "markdown",
   "id": "c9a87814-4300-4aae-8c14-48afcd72647b",
   "metadata": {},
   "source": [
    "У цьому прикладі:\n",
    "\n",
    "- `date_str` — це рядок, що представляє дату та час у форматі `день/місяць/рік година:хвилина:секунда`.\n",
    "- Метод `datetime.datetime.strptime()` приймає рядок і форматовану строку як параметри, щоб правильно перетворити рядок на екземпляр `datetime`.\n",
    "- Формат `%d/%m/%Y %H:%M:%S` визначає, які частини рядка представляють день, місяць, рік, години, хвилини та секунди:\n",
    "  - `%d` — день\n",
    "  - `%m` — місяць\n",
    "  - `%Y` — рік з чотирьох цифр\n",
    "  - `%H` — години (24-годинний формат)\n",
    "  - `%M` — хвилини\n",
    "  - `%S` — секунди\n"
   ]
  },
  {
   "cell_type": "markdown",
   "id": "46c768f7-69ef-46d8-929f-4223adc520dd",
   "metadata": {},
   "source": [
    "## Приклад використання `datetime.timedelta`\n",
    "\n",
    "Модуль `datetime` також надає клас `timedelta`, який дозволяє виконувати арифметичні операції з датами та часом, наприклад, додавати або віднімати певний проміжок часу. Ось приклад використання `datetime.timedelta` для додавання 7 днів до поточної дати:\n"
   ]
  },
  {
   "cell_type": "code",
   "execution_count": 28,
   "id": "788e4073-6d59-4c62-a9d6-f7030b5e2761",
   "metadata": {},
   "outputs": [
    {
     "name": "stdout",
     "output_type": "stream",
     "text": [
      "Поточна дата і час: 2024-09-14 00:40:02.609509\n"
     ]
    }
   ],
   "source": [
    "import datetime\n",
    "\n",
    "# Поточна дата та час\n",
    "now = datetime.datetime.now()\n",
    "print(\"Поточна дата і час:\", now)"
   ]
  },
  {
   "cell_type": "code",
   "execution_count": 29,
   "id": "6a3d2e81-49a2-489d-b91c-9b8550f05c47",
   "metadata": {},
   "outputs": [
    {
     "name": "stdout",
     "output_type": "stream",
     "text": [
      "Дата та час 3 години тому: 2024-09-13 21:40:02.609509\n"
     ]
    }
   ],
   "source": [
    "# Віднімання 3 години від поточної дати\n",
    "three_hours_ago = now - datetime.timedelta(hours=3)\n",
    "print(\"Дата та час 3 години тому:\", three_hours_ago)"
   ]
  },
  {
   "cell_type": "code",
   "execution_count": 30,
   "id": "62a2c0db-b636-49c1-9077-29030f4ba60e",
   "metadata": {},
   "outputs": [
    {
     "name": "stdout",
     "output_type": "stream",
     "text": [
      "Інтервал часу: 2 days, 5:30:00\n"
     ]
    }
   ],
   "source": [
    "# Створення інтервалу часу\n",
    "time_difference = datetime.timedelta(days=2, hours=5, minutes=30)\n",
    "print(\"Інтервал часу:\", time_difference)"
   ]
  },
  {
   "cell_type": "code",
   "execution_count": 31,
   "id": "3f52c065-93fe-489f-bc37-988d79340a85",
   "metadata": {},
   "outputs": [
    {
     "name": "stdout",
     "output_type": "stream",
     "text": [
      "Дата та час після інтервалу: 2024-09-16 06:10:02.609509\n"
     ]
    }
   ],
   "source": [
    "# Додавання цього інтервалу до поточної дати\n",
    "future_time = now + time_difference\n",
    "print(\"Дата та час після інтервалу:\", future_time)"
   ]
  },
  {
   "cell_type": "code",
   "execution_count": null,
   "id": "cfee91ed-c1e3-4040-9f6e-ead6bd6af52d",
   "metadata": {},
   "outputs": [],
   "source": []
  },
  {
   "cell_type": "code",
   "execution_count": null,
   "id": "b36004b0-c7a2-4406-bfed-46e6b0043e76",
   "metadata": {},
   "outputs": [],
   "source": []
  },
  {
   "cell_type": "code",
   "execution_count": null,
   "id": "de845c8b-815c-4d98-845a-47b8b1398d96",
   "metadata": {},
   "outputs": [],
   "source": []
  },
  {
   "cell_type": "markdown",
   "id": "d3c55c67-2047-4da6-93b4-51270169ba6d",
   "metadata": {},
   "source": [
    "## Робота з часовими поясами\n",
    "\n",
    "Як ви бачили раніше, збереження часового поясу, в якому відбувається певна дата, є важливим аспектом забезпечення коректності вашого коду. Модуль Python `datetime` надає `tzinfo`, який є абстрактним базовим класом, що дозволяє `datetime.datetime` та `datetime.time` включати інформацію про часовий пояс, включно з урахуванням літнього часу.\n",
    "\n",
    "Однак, `datetime` не надає прямого способу взаємодії з базою даних часових поясів IANA. Документація `datetime.tzinfo` рекомендує використовувати сторонній пакет під назвою `dateutil`. Ви можете встановити `dateutil` за допомогою pip:"
   ]
  },
  {
   "cell_type": "code",
   "execution_count": 33,
   "id": "90b5923e-2688-4d82-8080-cae5d258e18e",
   "metadata": {},
   "outputs": [
    {
     "name": "stderr",
     "output_type": "stream",
     "text": [
      "python(58159) MallocStackLogging: can't turn off malloc stack logging because it was not enabled.\n"
     ]
    },
    {
     "name": "stdout",
     "output_type": "stream",
     "text": [
      "Requirement already satisfied: python-dateutil in /Users/autodoc/opt/anaconda3/lib/python3.9/site-packages (2.9.0.post0)\n",
      "Requirement already satisfied: six>=1.5 in /Users/autodoc/opt/anaconda3/lib/python3.9/site-packages (from python-dateutil) (1.16.0)\n"
     ]
    }
   ],
   "source": [
    "!pip install python-dateutil"
   ]
  },
  {
   "cell_type": "markdown",
   "id": "fcc8ddd6-6b7b-4f85-9d27-56513f697fae",
   "metadata": {},
   "source": [
    "Зверніть увагу, що назва пакета, який ви встановлюєте з PyPI — python-dateutil, відрізняється від назви, яку ви використовуєте для імпорту пакета в коді, — просто dateutil."
   ]
  },
  {
   "cell_type": "markdown",
   "id": "26483e72-8c35-451a-a508-4837f48e17f5",
   "metadata": {},
   "source": [
    "## Використання `dateutil` для додавання часових поясів до Python `datetime`\n",
    "\n",
    "Одна з причин, чому `dateutil` є таким корисним, полягає в тому, що він включає інтерфейс до бази даних часових поясів IANA. Це значно спрощує процес призначення часових поясів вашим екземплярам `datetime`. Спробуйте цей приклад, щоб побачити, як встановити часовий пояс для екземпляра `datetime` у вашому локальному часовому поясі:"
   ]
  },
  {
   "cell_type": "code",
   "execution_count": 36,
   "id": "4b880ca8-77d4-4226-a520-32481945a5c6",
   "metadata": {},
   "outputs": [
    {
     "data": {
      "text/plain": [
       "datetime.datetime(2024, 9, 14, 0, 45, 58, 35575, tzinfo=tzlocal())"
      ]
     },
     "execution_count": 36,
     "metadata": {},
     "output_type": "execute_result"
    }
   ],
   "source": [
    "from dateutil import tz\n",
    "from datetime import datetime\n",
    "now = datetime.now(tz=tz.tzlocal())\n",
    "now"
   ]
  },
  {
   "cell_type": "code",
   "execution_count": 37,
   "id": "52b68c0d-ecb8-44ee-aa2f-e2786d000ef6",
   "metadata": {},
   "outputs": [
    {
     "data": {
      "text/plain": [
       "'EEST'"
      ]
     },
     "execution_count": 37,
     "metadata": {},
     "output_type": "execute_result"
    }
   ],
   "source": [
    "now.tzname()"
   ]
  },
  {
   "cell_type": "markdown",
   "id": "a4fdd83e-fd79-4d42-bfff-a71ade1e8f26",
   "metadata": {},
   "source": [
    "У цьому прикладі ви імпортуєте `tz` з `dateutil` та `datetime` з модуля `datetime`. Потім створюєте екземпляр `datetime`, встановлений на поточний час за допомогою методу `.now()`.\n",
    "\n",
    "Також ви передаєте ключове слово `tz` у метод `.now()` і встановлюєте `tz` рівним `tz.tzlocal()`. У `dateutil`, `tz.tzlocal()` повертає конкретний екземпляр `datetime.tzinfo`. Це означає, що він може представляти всю необхідну інформацію про зсув часового поясу та літній час, яка потрібна для `datetime`.\n"
   ]
  },
  {
   "cell_type": "code",
   "execution_count": null,
   "id": "5612a108-37a7-41d1-959d-b704829849a7",
   "metadata": {},
   "outputs": [],
   "source": []
  },
  {
   "cell_type": "markdown",
   "id": "6129c3b7-1a77-4cec-a61e-eb0c8c8b7938",
   "metadata": {},
   "source": [
    "Ви також можете створювати часові пояси, які відрізняються від того, що повідомляє ваш комп'ютер. Для цього використовується `tz.gettz()`, куди передається офіційна назва часового поясу з бази даних IANA. Ось приклад того, як використовувати `tz.gettz()`:"
   ]
  },
  {
   "cell_type": "code",
   "execution_count": 38,
   "id": "4a2fcae4-8257-4e90-999a-c52f9dfb8428",
   "metadata": {},
   "outputs": [
    {
     "name": "stdout",
     "output_type": "stream",
     "text": [
      "Час у Лондоні: 2024-09-13 22:48:53.881121+01:00\n",
      "Час у Токіо: 2024-09-14 06:48:53.885959+09:00\n"
     ]
    }
   ],
   "source": [
    "from datetime import datetime\n",
    "from dateutil import tz\n",
    "\n",
    "# Створення часового поясу для Лондона\n",
    "london_tz = tz.gettz('Europe/London')\n",
    "\n",
    "# Поточна дата та час у часовому поясі Лондона\n",
    "london_time = datetime.now(london_tz)\n",
    "print(\"Час у Лондоні:\", london_time)\n",
    "\n",
    "# Створення часового поясу для Токіо\n",
    "tokyo_tz = tz.gettz('Asia/Tokyo')\n",
    "\n",
    "# Поточна дата та час у часовому поясі Токіо\n",
    "tokyo_time = datetime.now(tokyo_tz)\n",
    "print(\"Час у Токіо:\", tokyo_time)\n"
   ]
  },
  {
   "cell_type": "markdown",
   "id": "1675dad3-b133-4ffd-82c0-6d1b9c685947",
   "metadata": {},
   "source": [
    "У цьому прикладі ви використовуєте `tz.gettz()` для отримання інформації про часовий пояс для Лондона, Великобританія, і зберігаєте її в змінній `london_tz`. Потім отримуєте поточний час, встановлюючи часовий пояс на `london_tz`."
   ]
  },
  {
   "cell_type": "code",
   "execution_count": null,
   "id": "bfc3181f-3a56-4bd3-b533-14a69cd6618a",
   "metadata": {},
   "outputs": [],
   "source": []
  },
  {
   "cell_type": "markdown",
   "id": "ac1a6e2a-8b6e-45c3-a998-e34a8f9077ae",
   "metadata": {},
   "source": [
    "### Використання `relativedelta` з `dateutil`\n",
    "\n",
    "`timedelta` дійсно дуже корисний, але має певні обмеження, оскільки не може додавати чи віднімати інтервали, більші за день, наприклад, місяці або роки. На щастя, `dateutil` надає більш потужну заміну під назвою `relativedelta`.\n"
   ]
  },
  {
   "cell_type": "code",
   "execution_count": 44,
   "id": "1a26eea3-1eae-4997-8907-cf76da77e2e7",
   "metadata": {},
   "outputs": [
    {
     "data": {
      "text/plain": [
       "datetime.datetime(2024, 9, 15, 0, 45, 58, 35575, tzinfo=tzlocal())"
      ]
     },
     "execution_count": 44,
     "metadata": {},
     "output_type": "execute_result"
    }
   ],
   "source": [
    "from dateutil.relativedelta import relativedelta\n",
    "tomorrow = relativedelta(days=+1)\n",
    "now + tomorrow"
   ]
  },
  {
   "cell_type": "code",
   "execution_count": 42,
   "id": "52cb3780-bd05-4046-9d69-53d898294386",
   "metadata": {},
   "outputs": [
    {
     "data": {
      "text/plain": [
       "datetime.datetime(2029, 10, 16, 20, 15, 58, 35575, tzinfo=tzlocal())"
      ]
     },
     "execution_count": 42,
     "metadata": {},
     "output_type": "execute_result"
    }
   ],
   "source": [
    "delta = relativedelta(years=+5, months=+1, days=+3, hours=-4, minutes=-30)\n",
    "now + delta"
   ]
  },
  {
   "cell_type": "markdown",
   "id": "c5bd2535-0c4c-4bc9-8845-15ce4dc34af7",
   "metadata": {},
   "source": [
    "Ви також можете використовувати `relativedelta` для обчислення різниці між двома екземплярами `datetime`. Раніше ви використовували оператор віднімання, щоб знайти різницю між двома екземплярами `datetime`.\n",
    "\n",
    "З `relativedelta`, замість використання оператора віднімання, потрібно передати ці два екземпляри `datetime` як аргументи:\n"
   ]
  },
  {
   "cell_type": "code",
   "execution_count": 48,
   "id": "88f53b16-d3e3-4126-b7a0-c6f2a2e23431",
   "metadata": {},
   "outputs": [
    {
     "data": {
      "text/plain": [
       "relativedelta(years=+33, days=+21, minutes=+58, seconds=+32, microseconds=+311617)"
      ]
     },
     "execution_count": 48,
     "metadata": {},
     "output_type": "execute_result"
    }
   ],
   "source": [
    "now = datetime.now()\n",
    "\n",
    "tomorrow = datetime(1991, 8, 24)\n",
    "\n",
    "relativedelta(now, tomorrow)"
   ]
  },
  {
   "cell_type": "code",
   "execution_count": null,
   "id": "6995fedb-d0f3-4afe-86cb-4731e5470ce4",
   "metadata": {},
   "outputs": [],
   "source": []
  }
 ],
 "metadata": {
  "kernelspec": {
   "display_name": "Python 3 (ipykernel)",
   "language": "python",
   "name": "python3"
  },
  "language_info": {
   "codemirror_mode": {
    "name": "ipython",
    "version": 3
   },
   "file_extension": ".py",
   "mimetype": "text/x-python",
   "name": "python",
   "nbconvert_exporter": "python",
   "pygments_lexer": "ipython3",
   "version": "3.9.13"
  }
 },
 "nbformat": 4,
 "nbformat_minor": 5
}

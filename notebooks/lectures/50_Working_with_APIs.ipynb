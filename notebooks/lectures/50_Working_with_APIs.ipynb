{
 "cells": [
  {
   "cell_type": "markdown",
   "id": "81578055",
   "metadata": {
    "editable": true,
    "slideshow": {
     "slide_type": ""
    },
    "tags": []
   },
   "source": [
    "Make sure you fill in any place that says `YOUR CODE HERE` or \"YOUR ANSWER HERE\", as well as your name:"
   ]
  },
  {
   "cell_type": "code",
   "execution_count": 2,
   "id": "226fbc6b",
   "metadata": {},
   "outputs": [],
   "source": [
    "NAME = \"\" # put your name here"
   ]
  },
  {
   "cell_type": "markdown",
   "id": "8917f45c",
   "metadata": {},
   "source": [
    "---"
   ]
  },
  {
   "cell_type": "markdown",
   "id": "92b80f55-ae92-437e-9853-7f558dcaa3ca",
   "metadata": {
    "editable": true,
    "slideshow": {
     "slide_type": ""
    },
    "tags": []
   },
   "source": [
    "# Lab5: Manipulating Spotify API Data Using Python `requests`\n",
    "\n",
    "## Objective\n",
    "In this lab, you will practice using Python to interact with the Spotify Web API. By the end of this lab, you will be able to:\n",
    "- Retrieve data from the Spotify API using HTTP requests.\n",
    "- Process and handle JSON data.\n",
    "- Display specific information about artists, albums, and tracks.\n",
    "\n",
    "## Instructions\n",
    "Complete all cells marked as `YOUR CODE HERE`. Each `YOUR CODE HERE` cell has instructions on what is expected.\n",
    "\n",
    "---\n"
   ]
  },
  {
   "cell_type": "markdown",
   "id": "30719435-17cb-4f90-a64a-ddd91071581c",
   "metadata": {},
   "source": [
    "### Setup:\n",
    "\n",
    "1. **Spotify Developer Account:**\n",
    "   - Go to the [Spotify Developer Dashboard](https://developer.spotify.com/dashboard/login) and log in with your Spotify account.\n",
    "   - Create a new application in the dashboard to obtain your `client_id` and `client_secret`.\n",
    "   - These credentials are necessary to authenticate with Spotify's API.\n",
    "   - Keep these credentials safe as you will use them to generate your access token.\n",
    "\n",
    "**Note**: Remember not to share your API keys with anyone.\n",
    "\n",
    "2. **Storing Credentials Securely in a `.env` File:**\n",
    "   - Create a `.env` file in the root directory of your project. In this file, add your `client_id` and `client_secret` as shown below:\n",
    "     ```\n",
    "     SPOTIFY_CLIENT_ID=your_client_id_here\n",
    "     SPOTIFY_CLIENT_SECRET=your_client_secret_here\n",
    "     ```\n",
    "   - Do **not** hardcode your credentials in the notebook. The notebook will load the credentials from the `.env` file using the `python-dotenv` library.\n",
    "\n",
    "3. **Installing Required Libraries:**\n",
    "   - Install the required libraries by running the following commands in your terminal:\n",
    "     ```bash\n",
    "     pip install requests python-dotenv\n",
    "     ```"
   ]
  },
  {
   "cell_type": "markdown",
   "id": "f546fdb2-57d1-4052-9641-82fe6a6dcda6",
   "metadata": {},
   "source": [
    "## Task 1: Authentication (OAuth 2.0)\n",
    "\n",
    "Spotify's API requires OAuth 2.0 for authentication. \n",
    "In this task, you will request an access token using your `client_id` and `client_secret` from `.env` file."
   ]
  },
  {
   "cell_type": "code",
   "execution_count": null,
   "id": "f81c579d-5dc5-4c7f-93ed-1958980fb8b7",
   "metadata": {
    "editable": true,
    "slideshow": {
     "slide_type": ""
    },
    "tags": []
   },
   "outputs": [],
   "source": [
    "# Import required libraries\n",
    "import requests  # to make HTTP requests\n",
    "import json      # to handle JSON data\n",
    "import base64    # for encoding client credentials\n",
    "import pandas as pd  # for data processing\n",
    "from dotenv import load_dotenv  # to load environment variables\n",
    "import os  # to access environment variables\n",
    "\n",
    "# Load the environment variables from the .env file\n",
    "load_dotenv()\n",
    "\n",
    "# Fetch credentials from environment variables\n",
    "CLIENT_ID = os.getenv('SPOTIFY_CLIENT_ID')  # Load from .env file\n",
    "CLIENT_SECRET = os.getenv('SPOTIFY_CLIENT_SECRET')  # Load from .env file\n",
    "TOKEN_URL = 'https://accounts.spotify.com/api/token'\n"
   ]
  },
  {
   "cell_type": "code",
   "execution_count": null,
   "id": "fd985aa6-de91-45d0-a8c1-8110fbda93c7",
   "metadata": {},
   "outputs": [],
   "source": [
    "def get_access_token(client_id, client_secret):\n",
    "    \"\"\"\n",
    "    Function to retrieve the Spotify API access token using client credentials.\n",
    "    \n",
    "    Parameters:\n",
    "        client_id (str): Spotify client ID\n",
    "        client_secret (str): Spotify client secret\n",
    "        \n",
    "    Returns:\n",
    "        str: Bearer token for accessing Spotify API\n",
    "    \"\"\"\n",
    "    url = \"https://accounts.spotify.com/api/token\"\n",
    "    headers = {\n",
    "        'Content-Type': 'application/x-www-form-urlencoded'\n",
    "    }\n",
    "    data = {\n",
    "        'grant_type': 'client_credentials',\n",
    "        'client_id': client_id,\n",
    "        'client_secret': client_secret\n",
    "    }\n",
    "    \n",
    "    response = requests.post(url, headers=headers, data=data)\n",
    "    if response.status_code == 200:\n",
    "        # Parse and return the access token\n",
    "        token = response.json().get('access_token')\n",
    "        return token\n",
    "    else:\n",
    "        raise Exception(f\"Failed to obtain access token. Status code: {response.status_code}\")\n",
    "\n",
    "# Example usage (Replace with actual client_id and client_secret from the .env file)\n",
    "# token = get_access_token('your_client_id_here', 'your_client_secret_here')\n",
    "# print(token)\n"
   ]
  },
  {
   "cell_type": "code",
   "execution_count": null,
   "id": "22cc7ede-1a91-417f-8535-c3ea89c10738",
   "metadata": {
    "deletable": false,
    "editable": false,
    "nbgrader": {
     "cell_type": "code",
     "checksum": "7533d0c93874c128a32cda30651768e2",
     "grade": true,
     "grade_id": "Authentication",
     "locked": true,
     "points": 1,
     "schema_version": 3,
     "solution": false,
     "task": false
    }
   },
   "outputs": [],
   "source": [
    "# TEST CASE: Authentication\n",
    "\n",
    "access_token = get_access_token(CLIENT_ID, CLIENT_SECRET)\n",
    "assert access_token is not None  # Ensure the token is not None\n"
   ]
  },
  {
   "cell_type": "code",
   "execution_count": null,
   "id": "1899bf9a-539f-4492-88c7-b299c9a73017",
   "metadata": {},
   "outputs": [],
   "source": []
  },
  {
   "cell_type": "markdown",
   "id": "88af6ceb-b9ae-4e7a-9fcc-4978ab22b5f9",
   "metadata": {
    "editable": true,
    "slideshow": {
     "slide_type": ""
    },
    "tags": []
   },
   "source": [
    "# Task 2: Searching for an Artist\n",
    "In this task, you will implement a search function to look for an artist based on a search query.\n",
    "\n"
   ]
  },
  {
   "cell_type": "code",
   "execution_count": null,
   "id": "1e0b7c9f-2cf2-4f58-9384-24b5cc9f53d3",
   "metadata": {
    "deletable": false,
    "nbgrader": {
     "cell_type": "code",
     "checksum": "a3dac2ba7856687ea7771215500fc4ef",
     "grade": false,
     "grade_id": "cell-ad3686c0a1fa46d8",
     "locked": false,
     "schema_version": 3,
     "solution": true,
     "task": false
    }
   },
   "outputs": [],
   "source": [
    "#VALIDATION_FIELD[func] search_artist\n",
    "\n",
    "def search_artist(token, query):\n",
    "    \"\"\"\n",
    "    Function to search for an artist on Spotify.\n",
    "    \n",
    "    Parameters:\n",
    "        token (str): OAuth token for Spotify API\n",
    "        query (str): Search query (artist name)\n",
    "        \n",
    "    Returns:\n",
    "        tuple: Artist name (str), Artist ID (str)\n",
    "    \"\"\"\n",
    "    # YOUR CODE HERE\n",
    "    raise NotImplementedError()\n"
   ]
  },
  {
   "cell_type": "code",
   "execution_count": null,
   "id": "4faf969e-d5e7-46bd-8a19-258ac08310d4",
   "metadata": {
    "editable": true,
    "slideshow": {
     "slide_type": ""
    },
    "tags": []
   },
   "outputs": [],
   "source": [
    "search_artist(access_token, \"The Weeknd\")"
   ]
  },
  {
   "cell_type": "markdown",
   "id": "1c94fc7b-59e0-46bf-b86d-d8d65675adcc",
   "metadata": {},
   "source": [
    "Expected Output: \n",
    "<table>\n",
    "  <tr>\n",
    "    <td>Result:</td>\n",
    "    <td>('The Weeknd', '1Xyo4u8uXC1ZmMpatF05PJ')</td> \n",
    "  </tr>\n"
   ]
  },
  {
   "cell_type": "code",
   "execution_count": null,
   "id": "2afd0a10-c48e-4b18-9c08-bccc7ac3f8c0",
   "metadata": {
    "deletable": false,
    "editable": false,
    "nbgrader": {
     "cell_type": "code",
     "checksum": "a0f2f66b63b50a888a324354a64832a1",
     "grade": true,
     "grade_id": "Search-for-Artist",
     "locked": true,
     "points": 1,
     "schema_version": 3,
     "solution": false,
     "task": false
    }
   },
   "outputs": [],
   "source": [
    "# TEST CASE: Search for Artist\n",
    "\n",
    "artist_name, artist_id = search_artist(access_token, \"The Weeknd\")\n",
    "assert artist_name == \"The Weeknd\"  # Ensure the correct artist is returned\n",
    "assert artist_id == '1Xyo4u8uXC1ZmMpatF05PJ'  # Ensure the correct artist ID is returned\n",
    "\n"
   ]
  },
  {
   "cell_type": "markdown",
   "id": "826575e1-a77d-4ade-9f7d-91751b67109e",
   "metadata": {},
   "source": [
    "# Task 3: Fetching Related Artists\n",
    "For this task, you will fetch related artists to a given artist."
   ]
  },
  {
   "cell_type": "code",
   "execution_count": null,
   "id": "eb9f299a-302b-4b25-b081-f0856b27696c",
   "metadata": {
    "deletable": false,
    "nbgrader": {
     "cell_type": "code",
     "checksum": "c171fa83d0dbd1add7278677f7a5dafe",
     "grade": false,
     "grade_id": "cell-250c5cc13852de83",
     "locked": false,
     "schema_version": 3,
     "solution": true,
     "task": false
    }
   },
   "outputs": [],
   "source": [
    "#VALIDATION_FIELD[func] get_related_artists\n",
    "\n",
    "def get_related_artists(token, artist_id):\n",
    "    \"\"\"\n",
    "    Function to retrieve related artists of a given artist.\n",
    "    \n",
    "    Parameters:\n",
    "        token (str): OAuth token for Spotify API\n",
    "        artist_id (str): Spotify Artist ID\n",
    "        \n",
    "    Returns:\n",
    "        list: List of related artist names (str)\n",
    "    \"\"\"\n",
    "    # YOUR CODE HERE\n",
    "    raise NotImplementedError()\n"
   ]
  },
  {
   "cell_type": "code",
   "execution_count": null,
   "id": "0e0bb561-8c60-4e42-b6cc-cfb50ddaf092",
   "metadata": {},
   "outputs": [],
   "source": [
    "get_related_artists(access_token, '1Xyo4u8uXC1ZmMpatF05PJ')"
   ]
  },
  {
   "cell_type": "markdown",
   "id": "602581e7-d2fa-4c51-bca3-513ab41781b6",
   "metadata": {},
   "source": [
    "Expected Output: \n",
    "<table>\n",
    "  <tr>\n",
    "    <td>Result like:</td>\n",
    "    <td>['Gesaffelstein',\n",
    " 'Lily-Rose Depp',\n",
    " 'Swae Lee',\n",
    " 'Doja Cat',\n",
    " 'SZA',\n",
    " 'Miguel',\n",
    " 'G-Eazy',\n",
    " 'The Neighbourhood',\n",
    " 'French Montana',\n",
    " 'Rihanna',\n",
    " '070 Shake',\n",
    " 'Beach Weather',\n",
    " 'Labrinth',\n",
    " 'Justine Skye',\n",
    " 'Ariana Grande',\n",
    " 'Yoko Gold',\n",
    " 'Ty Dolla $ign',\n",
    " 'The Kid LAROI',\n",
    " 'Chase Atlantic',\n",
    " 'JENNIE'])</td> \n",
    "  </tr>\n"
   ]
  },
  {
   "cell_type": "code",
   "execution_count": null,
   "id": "fc83dfb0-76f7-46ef-bf57-2ca911e1cd60",
   "metadata": {
    "deletable": false,
    "editable": false,
    "nbgrader": {
     "cell_type": "code",
     "checksum": "6564d8dfa47dba2df401b0932120fc07",
     "grade": true,
     "grade_id": "Related-Artists",
     "locked": true,
     "points": 1,
     "schema_version": 3,
     "solution": false,
     "task": false
    },
    "slideshow": {
     "slide_type": ""
    },
    "tags": []
   },
   "outputs": [],
   "source": [
    "# TEST CASE: Related Artists\n",
    "\n",
    "related_artists = get_related_artists(access_token, '1Xyo4u8uXC1ZmMpatF05PJ')  # The Weeknd's artist ID\n",
    "assert len(related_artists) > 0  # Ensure that related artists are returned\n",
    "\n"
   ]
  },
  {
   "cell_type": "code",
   "execution_count": null,
   "id": "ae1989b8-ceb5-4f96-9470-754a3ec34b84",
   "metadata": {},
   "outputs": [],
   "source": []
  },
  {
   "cell_type": "markdown",
   "id": "a8e0102d-682a-4427-91e0-793d4200f656",
   "metadata": {},
   "source": [
    "# Task 4: Find and Analyze a Show (Podcast)\n",
    "\n",
    "In this task, you will search for a podcast show, retrieve metadata about the show and its episodes, and perform some analysis on the data.\n",
    "\n",
    "Instructions:\n",
    "1. Search for a Podcast Show: Use Spotify’s API to search for a podcast by name.\n",
    "2. Retrieve Episode Details: Once the show is found, retrieve details about its episodes, such as release dates, durations, and descriptions.\n",
    "3. Analysis: Perform an analysis, such as finding the longest episode or counting the episodes released in the last year.\n"
   ]
  },
  {
   "cell_type": "code",
   "execution_count": null,
   "id": "a5b0c3f9-df2c-415c-9cec-b99fdffa663a",
   "metadata": {
    "deletable": false,
    "nbgrader": {
     "cell_type": "code",
     "checksum": "4e248e6aaa67cb20151bc99dfb690a7b",
     "grade": false,
     "grade_id": "cell-d5f435ab1cacf6f9",
     "locked": false,
     "schema_version": 3,
     "solution": true,
     "task": false
    }
   },
   "outputs": [],
   "source": [
    "#VALIDATION_FIELD[func] search_show\n",
    "\n",
    "def search_show(token, query, limit=5):\n",
    "    \"\"\"\n",
    "    Function to search for a podcast show by name.\n",
    "    \n",
    "    Parameters:\n",
    "        token (str): OAuth token for Spotify API\n",
    "        query (str): The name of the podcast show to search for\n",
    "        limit (int): The number of shows to return (default is 1)\n",
    "        \n",
    "    Returns:\n",
    "        tuple: (show_name, show_id) of the first result\n",
    "    \"\"\"\n",
    "    url = 'https://api.spotify.com/v1/search'\n",
    "    \n",
    "    headers = {\n",
    "        'Authorization': f'Bearer {token}'\n",
    "    }\n",
    "    \n",
    "    params = {\n",
    "        'q': query,\n",
    "        'type': 'show',\n",
    "        'limit': limit,\n",
    "        'market': 'US'  # Specify the market\n",
    "\n",
    "    }\n",
    "    \n",
    "    # YOUR CODE HERE\n",
    "    raise NotImplementedError()\n"
   ]
  },
  {
   "cell_type": "code",
   "execution_count": null,
   "id": "90d12e12-9c2a-4932-870b-e9dab72ea9e5",
   "metadata": {},
   "outputs": [],
   "source": [
    "search_show(access_token, \"TED Talks Daily\")"
   ]
  },
  {
   "cell_type": "markdown",
   "id": "7e989e31-c583-4824-9d61-c36684edcca3",
   "metadata": {},
   "source": [
    "Expected Output: \n",
    "<table>\n",
    "  <tr>\n",
    "    <td>Result:</td>\n",
    "    <td>('TED Talks Daily', '1VXcH8QHkjRcTCEd88U3ti')</td> \n",
    "  </tr>\n"
   ]
  },
  {
   "cell_type": "code",
   "execution_count": null,
   "id": "92d5d87f-82c2-43d4-98f4-716cabdb1d2e",
   "metadata": {
    "deletable": false,
    "editable": false,
    "nbgrader": {
     "cell_type": "code",
     "checksum": "eac14588a9aef5d12c0a729753178534",
     "grade": true,
     "grade_id": "Search-Podcast-Show",
     "locked": true,
     "points": 1,
     "schema_version": 3,
     "solution": false,
     "task": false
    }
   },
   "outputs": [],
   "source": [
    "# TEST CASE: Search for a Podcast Show\n",
    "\n",
    "# Use your access_token to test the function (replace with valid access_token)\n",
    "show_name, show_id = search_show(access_token, \"The Joe Rogan Experience\")\n",
    "assert show_name is not None\n",
    "assert show_id is not None\n",
    "\n"
   ]
  },
  {
   "cell_type": "markdown",
   "id": "b9b8245d-6ada-4d83-9df6-23aac3ed065b",
   "metadata": {},
   "source": [
    "# Task 5: Get Episodes of a Podcast Show\n",
    "\n",
    "Once you have the show ID, retrieve the first 10 episodes of the podcast, including the name, duration, release date, and description for each episode."
   ]
  },
  {
   "cell_type": "code",
   "execution_count": null,
   "id": "2de4067f-b26e-488a-a2f0-331188c7a275",
   "metadata": {
    "deletable": false,
    "nbgrader": {
     "cell_type": "code",
     "checksum": "878ef642ebdace705834d1227c2776d2",
     "grade": false,
     "grade_id": "cell-d0ed53210bc6d16e",
     "locked": false,
     "schema_version": 3,
     "solution": true,
     "task": false
    }
   },
   "outputs": [],
   "source": [
    "#VALIDATION_FIELD[func] get_show_episodes\n",
    "\n",
    "def get_show_episodes(token, show_id, limit=10):\n",
    "    \"\"\"\n",
    "    Function to retrieve the episodes of a podcast show.\n",
    "    \n",
    "    Parameters:\n",
    "        token (str): OAuth token for Spotify API\n",
    "        show_id (str): The Spotify ID of the podcast show\n",
    "        limit (int): The number of episodes to return (default is 10)\n",
    "        \n",
    "    Returns:\n",
    "        list: List of dictionaries containing episode information (name, duration, release date)\n",
    "    \"\"\"\n",
    "    # YOUR CODE HERE\n",
    "    raise NotImplementedError()\n"
   ]
  },
  {
   "cell_type": "code",
   "execution_count": null,
   "id": "1b70b2d5-2145-4090-9646-e77770621cf0",
   "metadata": {
    "deletable": false,
    "editable": false,
    "nbgrader": {
     "cell_type": "code",
     "checksum": "b20ffa3eb6157f628f8c1add8a997c73",
     "grade": true,
     "grade_id": "Get-Podcast-Episodes",
     "locked": true,
     "points": 1,
     "schema_version": 3,
     "solution": false,
     "task": false
    }
   },
   "outputs": [],
   "source": [
    "# TEST CASE: Get Podcast Episodes\n",
    "\n",
    "episodes = get_show_episodes(access_token, show_id, limit=10)\n",
    "assert len(episodes) == 10\n",
    "assert 'name' in episodes[0]\n",
    "assert 'duration_ms' in episodes[0]\n",
    "assert 'release_date' in episodes[0]\n",
    "\n"
   ]
  },
  {
   "cell_type": "markdown",
   "id": "18d8644b-a84b-4990-98b0-ae219e1224e0",
   "metadata": {},
   "source": [
    "# Task 6: Find the Longest Episode\n",
    "In this task, you will analyze the episodes and find the longest one based on its duration."
   ]
  },
  {
   "cell_type": "code",
   "execution_count": null,
   "id": "07cdc810-47a5-4b09-88b8-52bf9454bc52",
   "metadata": {
    "deletable": false,
    "nbgrader": {
     "cell_type": "code",
     "checksum": "e33cacd71b1ec1c6d2897a877f615ec1",
     "grade": false,
     "grade_id": "cell-4e4a06f5775b5dac",
     "locked": false,
     "schema_version": 3,
     "solution": true,
     "task": false
    }
   },
   "outputs": [],
   "source": [
    "#VALIDATION_FIELD[func] find_longest_episode\n",
    "\n",
    "def find_longest_episode(episodes):\n",
    "    \"\"\"\n",
    "    Function to find the longest episode from a list of episodes.\n",
    "    \n",
    "    Parameters:\n",
    "        episodes (list): List of dictionaries containing episode information (name, duration, release date)\n",
    "        \n",
    "    Returns:\n",
    "        dict: The dictionary containing the longest episode's information\n",
    "    \"\"\"\n",
    "    # YOUR CODE HERE\n",
    "    raise NotImplementedError()\n"
   ]
  },
  {
   "cell_type": "code",
   "execution_count": null,
   "id": "30650f67-d13d-4c50-8bbf-97edc21f5bec",
   "metadata": {
    "deletable": false,
    "editable": false,
    "nbgrader": {
     "cell_type": "code",
     "checksum": "9bb308e7c73f77dbfcaee379366eac4c",
     "grade": true,
     "grade_id": "Find-Longest-Episode",
     "locked": true,
     "points": 1,
     "schema_version": 3,
     "solution": false,
     "task": false
    },
    "slideshow": {
     "slide_type": ""
    },
    "tags": []
   },
   "outputs": [],
   "source": [
    "# TEST CASE: Find Longest Episode\n",
    "\n",
    "longest_episode = find_longest_episode(episodes)\n",
    "assert longest_episode['name'] is not None\n",
    "\n"
   ]
  },
  {
   "cell_type": "code",
   "execution_count": null,
   "id": "2b6501f5-6f4f-483b-9cf9-9fe299fd892d",
   "metadata": {},
   "outputs": [],
   "source": []
  },
  {
   "cell_type": "code",
   "execution_count": null,
   "id": "c7eb3282-8ef5-49d6-8f86-b73c82762004",
   "metadata": {},
   "outputs": [],
   "source": []
  }
 ],
 "metadata": {
  "kernelspec": {
   "display_name": "Python 3 (ipykernel)",
   "language": "python",
   "name": "python3"
  },
  "language_info": {
   "codemirror_mode": {
    "name": "ipython",
    "version": 3
   },
   "file_extension": ".py",
   "mimetype": "text/x-python",
   "name": "python",
   "nbconvert_exporter": "python",
   "pygments_lexer": "ipython3",
   "version": "3.12.2"
  }
 },
 "nbformat": 4,
 "nbformat_minor": 5
}

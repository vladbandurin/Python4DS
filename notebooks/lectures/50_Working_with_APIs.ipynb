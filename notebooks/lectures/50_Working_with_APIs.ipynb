{
 "cells": [
  {
   "cell_type": "code",
   "execution_count": 27,
   "id": "708649f6-0dca-4708-83d3-b608537a5738",
   "metadata": {},
   "outputs": [
    {
     "name": "stdout",
     "output_type": "stream",
     "text": [
      "Requirement already satisfied: openai in /Users/autodoc/opt/anaconda3/lib/python3.9/site-packages (1.30.1)\n",
      "Requirement already satisfied: httpx<1,>=0.23.0 in /Users/autodoc/opt/anaconda3/lib/python3.9/site-packages (from openai) (0.27.0)\n",
      "Requirement already satisfied: distro<2,>=1.7.0 in /Users/autodoc/opt/anaconda3/lib/python3.9/site-packages (from openai) (1.8.0)\n",
      "Requirement already satisfied: pydantic<3,>=1.9.0 in /Users/autodoc/opt/anaconda3/lib/python3.9/site-packages (from openai) (2.7.4)\n",
      "Requirement already satisfied: anyio<5,>=3.5.0 in /Users/autodoc/opt/anaconda3/lib/python3.9/site-packages (from openai) (4.4.0)\n",
      "Requirement already satisfied: typing-extensions<5,>=4.7 in /Users/autodoc/opt/anaconda3/lib/python3.9/site-packages (from openai) (4.12.2)\n",
      "Requirement already satisfied: sniffio in /Users/autodoc/opt/anaconda3/lib/python3.9/site-packages (from openai) (1.3.1)\n",
      "Requirement already satisfied: tqdm>4 in /Users/autodoc/opt/anaconda3/lib/python3.9/site-packages (from openai) (4.64.1)\n",
      "Requirement already satisfied: idna>=2.8 in /Users/autodoc/opt/anaconda3/lib/python3.9/site-packages (from anyio<5,>=3.5.0->openai) (3.7)\n",
      "Requirement already satisfied: exceptiongroup>=1.0.2 in /Users/autodoc/opt/anaconda3/lib/python3.9/site-packages (from anyio<5,>=3.5.0->openai) (1.2.2)\n",
      "Requirement already satisfied: httpcore==1.* in /Users/autodoc/opt/anaconda3/lib/python3.9/site-packages (from httpx<1,>=0.23.0->openai) (1.0.5)\n",
      "Requirement already satisfied: certifi in /Users/autodoc/opt/anaconda3/lib/python3.9/site-packages (from httpx<1,>=0.23.0->openai) (2024.6.2)\n",
      "Requirement already satisfied: h11<0.15,>=0.13 in /Users/autodoc/opt/anaconda3/lib/python3.9/site-packages (from httpcore==1.*->httpx<1,>=0.23.0->openai) (0.14.0)\n",
      "Requirement already satisfied: pydantic-core==2.18.4 in /Users/autodoc/opt/anaconda3/lib/python3.9/site-packages (from pydantic<3,>=1.9.0->openai) (2.18.4)\n",
      "Requirement already satisfied: annotated-types>=0.4.0 in /Users/autodoc/opt/anaconda3/lib/python3.9/site-packages (from pydantic<3,>=1.9.0->openai) (0.7.0)\n"
     ]
    }
   ],
   "source": [
    "# !pip install python-dotenv\n",
    "!pip install openai"
   ]
  },
  {
   "cell_type": "code",
   "execution_count": 1,
   "id": "f0f84196-b43f-4138-b62a-a3c3156f545e",
   "metadata": {},
   "outputs": [],
   "source": [
    "import os\n",
    "from dotenv import load_dotenv\n",
    "\n",
    "# Load environment variables from the .env file\n",
    "load_dotenv()\n",
    "\n",
    "# Access the API_KEY environment variable\n",
    "OPENWEATHER_API_KEY = os.getenv('OPENWEATHER_API_KEY')\n",
    "OPENAI_API_KEY = os.getenv('OPENAI_API_KEY')\n"
   ]
  },
  {
   "cell_type": "code",
   "execution_count": 3,
   "id": "fc3e0480-8659-4de3-a0e4-9458b317f407",
   "metadata": {},
   "outputs": [],
   "source": [
    "import requests\n",
    "\n",
    "\n",
    "def get_current_weather(city=\"London\", api_key=OPENWEATHER_API_KEY):\n",
    "    # Define the base URL for the OpenWeather API\n",
    "    base_url = \"http://api.openweathermap.org/data/2.5/weather\"\n",
    "\n",
    "    # Construct the full URL with query parameters\n",
    "    params = {\n",
    "        \"q\": city,\n",
    "        \"appid\": api_key,\n",
    "        \"units\": \"metric\"  # Use metric units (Celsius)\n",
    "    }\n",
    "\n",
    "    # Make the GET request to the API\n",
    "    response = requests.get(base_url, params=params)\n",
    "\n",
    "    return response\n"
   ]
  },
  {
   "cell_type": "code",
   "execution_count": 4,
   "id": "dd7a0630-96dc-4d8f-8db9-962a6a23b2e5",
   "metadata": {},
   "outputs": [],
   "source": [
    "response = get_current_weather(city=\"Kyiv\", api_key=OPENWEATHER_API_KEY)"
   ]
  },
  {
   "cell_type": "code",
   "execution_count": 5,
   "id": "907dedc6-0785-4dd6-9bfd-622ebf1d89ab",
   "metadata": {},
   "outputs": [
    {
     "data": {
      "text/plain": [
       "200"
      ]
     },
     "execution_count": 5,
     "metadata": {},
     "output_type": "execute_result"
    }
   ],
   "source": [
    "response.status_code"
   ]
  },
  {
   "cell_type": "code",
   "execution_count": 6,
   "id": "03f30315",
   "metadata": {},
   "outputs": [
    {
     "data": {
      "text/plain": [
       "{'coord': {'lon': 30.5167, 'lat': 50.4333},\n",
       " 'weather': [{'id': 802,\n",
       "   'main': 'Clouds',\n",
       "   'description': 'scattered clouds',\n",
       "   'icon': '03n'}],\n",
       " 'base': 'stations',\n",
       " 'main': {'temp': 14.29,\n",
       "  'feels_like': 13.84,\n",
       "  'temp_min': 14.25,\n",
       "  'temp_max': 14.29,\n",
       "  'pressure': 1012,\n",
       "  'humidity': 79,\n",
       "  'sea_level': 1012,\n",
       "  'grnd_level': 996},\n",
       " 'visibility': 10000,\n",
       " 'wind': {'speed': 0.89, 'deg': 139, 'gust': 2.24},\n",
       " 'clouds': {'all': 50},\n",
       " 'dt': 1727810765,\n",
       " 'sys': {'type': 2,\n",
       "  'id': 2003742,\n",
       "  'country': 'UA',\n",
       "  'sunrise': 1727755099,\n",
       "  'sunset': 1727796994},\n",
       " 'timezone': 10800,\n",
       " 'id': 703448,\n",
       " 'name': 'Kyiv',\n",
       " 'cod': 200}"
      ]
     },
     "execution_count": 6,
     "metadata": {},
     "output_type": "execute_result"
    }
   ],
   "source": [
    "response.json()"
   ]
  },
  {
   "cell_type": "code",
   "execution_count": 7,
   "id": "4be5ec93-e25a-4cce-968b-6834cee81833",
   "metadata": {},
   "outputs": [
    {
     "name": "stdout",
     "output_type": "stream",
     "text": [
      "The current temperature in Kyiv is 14.29°C.\n",
      "Weather description: Scattered clouds\n"
     ]
    }
   ],
   "source": [
    "# Check if the request was successful (status code 200)\n",
    "if response.status_code == 200:\n",
    "    # Parse the JSON response\n",
    "    weather_data = response.json()\n",
    "\n",
    "    # Extract useful information\n",
    "    temperature = weather_data['main']['temp']\n",
    "    weather_description = weather_data['weather'][0]['description']\n",
    "    city_name = weather_data['name']\n",
    "\n",
    "    # Print the result\n",
    "    print(f\"The current temperature in {city_name} is {temperature}°C.\")\n",
    "    print(f\"Weather description: {weather_description.capitalize()}\")\n",
    "else:\n",
    "    # Print the error if the request was not successful\n",
    "    print(f\"Failed to retrieve data: {response.status_code}\")\n",
    "    print(response.json())  # Display error message from API"
   ]
  },
  {
   "cell_type": "code",
   "execution_count": null,
   "id": "2d6b3398",
   "metadata": {
    "jupyter": {
     "outputs_hidden": false
    }
   },
   "outputs": [],
   "source": []
  },
  {
   "cell_type": "code",
   "execution_count": null,
   "id": "6f908411",
   "metadata": {
    "jupyter": {
     "outputs_hidden": false
    }
   },
   "outputs": [],
   "source": []
  },
  {
   "cell_type": "code",
   "execution_count": 8,
   "id": "e677c28e",
   "metadata": {
    "jupyter": {
     "outputs_hidden": false
    }
   },
   "outputs": [],
   "source": [
    "from openai import OpenAI\n",
    "\n",
    "client = OpenAI(api_key=OPENAI_API_KEY)\n",
    "\n",
    "\n",
    "def generate_openai_response(weather_data):\n",
    "    # Extract useful information\n",
    "    temperature = weather_data['main']['temp']\n",
    "    weather_description = weather_data['weather'][0]['description']\n",
    "    city_name = weather_data['name']\n",
    "\n",
    "    # Prepare a prompt for the OpenAI API\n",
    "    # prompt = (f\"The weather in {city_name} is currently {weather_description} with a temperature of {temperature}°C. \"\n",
    "    #           f\"Please generate a friendly message about the weather in a conversational tone. \")\n",
    "\n",
    "    prompt = f\"The weather in {city} is currently {weather_description} with a temperature of {temperature}°C. Now, imagine you're talking to a group of Gen-Z students who are deciding how to spend their day. Your goal is to encourage them to use this weather as an excuse to dive into their Python for Data Science labs. Make it fun, relatable, and hype them up with the kind of language Gen-Z would use. Keep it cool, motivating, and relevant to coding – like turning a chill or rainy day into the perfect excuse to learn, grind, and level up their Python skills. Make it short. Translate it to Ukrainian and return only Ukrainian message.\"\n",
    "    \n",
    "    # Make a request to the OpenAI ChatCompletion API\n",
    "    response = client.chat.completions.create(\n",
    "        model=\"gpt-4o\",\n",
    "        messages=[\n",
    "            {\"role\": \"system\", \"content\": \"You are a friendly and conversational assistant.\"},\n",
    "            {\"role\": \"user\", \"content\": prompt}\n",
    "        ], temperature=1,\n",
    "        max_tokens=2048,\n",
    "        top_p=1,\n",
    "        frequency_penalty=0,\n",
    "        presence_penalty=0,\n",
    "        response_format={\"type\": \"text\"\n",
    "                         }\n",
    "    )\n",
    "\n",
    "    return response\n"
   ]
  },
  {
   "cell_type": "code",
   "execution_count": 9,
   "id": "fe6268e2",
   "metadata": {
    "jupyter": {
     "outputs_hidden": false
    }
   },
   "outputs": [
    {
     "name": "stdout",
     "output_type": "stream",
     "text": [
      "Enter a city to get the weather: Kyiv\n",
      "An error occurred: Error code: 401 - {'error': {'message': 'Incorrect API key provided: sk-proj-********************************************MMit. You can find your API key at https://platform.openai.com/account/api-keys.', 'type': 'invalid_request_error', 'param': None, 'code': 'invalid_api_key'}}\n"
     ]
    }
   ],
   "source": [
    "# Ask the user for the city\n",
    "city = input(\"Enter a city to get the weather: \")\n",
    "\n",
    "try:\n",
    "    # Fetch weather data\n",
    "    response = get_current_weather(city=city, api_key=OPENWEATHER_API_KEY)\n",
    "\n",
    "    weather_data = response.json()\n",
    "\n",
    "    # Generate a friendly response using OpenAI\n",
    "    openai_response = generate_openai_response(weather_data)\n",
    "\n",
    "    print(\"\\n--- Weather Information ---\")\n",
    "    print(f\"City: {weather_data['name']}\")\n",
    "    print(f\"Temperature: {weather_data['main']['temp']}°C\")\n",
    "    print(f\"Weather: {weather_data['weather'][0]['description'].capitalize()}\")\n",
    "\n",
    "    print(\"\\n--- Chatbot Response ---\")\n",
    "    print(openai_response.choices[0].message.content)\n",
    "\n",
    "except Exception as e:\n",
    "    print(f\"An error occurred: {e}\")"
   ]
  },
  {
   "cell_type": "code",
   "execution_count": null,
   "id": "b590fc98-1073-40c0-aeb5-2569d39118c3",
   "metadata": {},
   "outputs": [],
   "source": []
  },
  {
   "cell_type": "code",
   "execution_count": null,
   "id": "9737f958-e658-4d5e-9381-de993020bf6d",
   "metadata": {},
   "outputs": [],
   "source": []
  },
  {
   "cell_type": "code",
   "execution_count": 40,
   "id": "3f7d3c4c",
   "metadata": {
    "jupyter": {
     "outputs_hidden": false
    }
   },
   "outputs": [
    {
     "name": "stdout",
     "output_type": "stream",
     "text": [
      "Ей, команда! Погода в Києві супер – хмарки на небі, температура майже 30°C. Це не час просто байдикувати! Давайте переведемо цю chill атмосферу в енергію для нашого Python for Data Science. Уявіть, наскільки крутими ми станемо, коли зможемо з легкістю шарити в даних і робити круті графіки. Завантажуйте ноутбуки, розгортуйте Jupyter і вперед, кодити й прокачувати свої скіли! Погода може бути як завгодно – а наше майбутнє в наших руках. Полетіли разом до вершини! 🚀📈👩‍💻👨‍💻\n"
     ]
    }
   ],
   "source": [
    "# Get the generated text\n",
    "print(openai_response.choices[0].message.content)"
   ]
  },
  {
   "cell_type": "code",
   "execution_count": 45,
   "id": "61c28a70-f338-42e9-a1fa-c0292432bd95",
   "metadata": {},
   "outputs": [
    {
     "data": {
      "text/plain": [
       "'Ей, команда! Погода в Києві супер – хмарки на небі, температура майже 30°C. Це не час просто байдикувати! Давайте переведемо цю chill атмосферу в енергію для нашого Python for Data Science. Уявіть, наскільки крутими ми станемо, коли зможемо з легкістю шарити в даних і робити круті графіки. Завантажуйте ноутбуки, розгортуйте Jupyter і вперед, кодити й прокачувати свої скіли! Погода може бути як завгодно – а наше майбутнє в наших руках. Полетіли разом до вершини! 🚀📈👩\\u200d💻👨\\u200d💻'"
      ]
     },
     "execution_count": 45,
     "metadata": {},
     "output_type": "execute_result"
    }
   ],
   "source": [
    "openai_response.choices[0].message.content"
   ]
  },
  {
   "cell_type": "code",
   "execution_count": 50,
   "id": "078ff87d-cac2-4e46-8342-3f84f409f7f8",
   "metadata": {},
   "outputs": [
    {
     "data": {
      "text/plain": [
       "ChatCompletion(id='chatcmpl-ACRRUT6kGzBRE1fW8JgbA60vjqKUK', choices=[Choice(finish_reason='stop', index=0, logprobs=None, message=ChatCompletionMessage(content='Ей, команда! Погода в Києві супер – хмарки на небі, температура майже 30°C. Це не час просто байдикувати! Давайте переведемо цю chill атмосферу в енергію для нашого Python for Data Science. Уявіть, наскільки крутими ми станемо, коли зможемо з легкістю шарити в даних і робити круті графіки. Завантажуйте ноутбуки, розгортуйте Jupyter і вперед, кодити й прокачувати свої скіли! Погода може бути як завгодно – а наше майбутнє в наших руках. Полетіли разом до вершини! 🚀📈👩\\u200d💻👨\\u200d💻', role='assistant', function_call=None, tool_calls=None, refusal=None))], created=1727528788, model='gpt-4o-2024-05-13', object='chat.completion', system_fingerprint='fp_c17d3befe7', usage=CompletionUsage(completion_tokens=166, prompt_tokens=149, total_tokens=315, completion_tokens_details={'reasoning_tokens': 0}))"
      ]
     },
     "execution_count": 50,
     "metadata": {},
     "output_type": "execute_result"
    }
   ],
   "source": [
    "openai_response"
   ]
  },
  {
   "cell_type": "code",
   "execution_count": 70,
   "id": "12d98345",
   "metadata": {
    "jupyter": {
     "outputs_hidden": false
    }
   },
   "outputs": [],
   "source": []
  },
  {
   "cell_type": "code",
   "execution_count": 71,
   "id": "d5e8335c",
   "metadata": {
    "jupyter": {
     "outputs_hidden": false
    }
   },
   "outputs": [],
   "source": [
    "# # Generate a friendly response using OpenAI\n",
    "# openai_response = generate_openai_response(weather_data)"
   ]
  },
  {
   "cell_type": "code",
   "execution_count": null,
   "id": "00b1daf2",
   "metadata": {
    "jupyter": {
     "outputs_hidden": false
    }
   },
   "outputs": [],
   "source": []
  }
 ],
 "metadata": {
  "kernelspec": {
   "display_name": "Python 3 (ipykernel)",
   "language": "python",
   "name": "python3"
  },
  "language_info": {
   "codemirror_mode": {
    "name": "ipython",
    "version": 3
   },
   "file_extension": ".py",
   "mimetype": "text/x-python",
   "name": "python",
   "nbconvert_exporter": "python",
   "pygments_lexer": "ipython3",
   "version": "3.9.13"
  }
 },
 "nbformat": 4,
 "nbformat_minor": 5
}
